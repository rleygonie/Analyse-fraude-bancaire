{
 "cells": [
  {
   "cell_type": "markdown",
   "metadata": {},
   "source": [
    "# Projet Random Forest\n",
    "\n",
    "## Rebecca Leygonie & Nemanja Kostadinovic"
   ]
  },
  {
   "cell_type": "markdown",
   "metadata": {},
   "source": [
    "# Import des packages"
   ]
  },
  {
   "cell_type": "code",
   "execution_count": 1,
   "metadata": {},
   "outputs": [
    {
     "name": "stderr",
     "output_type": "stream",
     "text": [
      "/usr/local/lib/python3.7/site-packages/sklearn/utils/deprecation.py:144: FutureWarning: The sklearn.tree.export module is  deprecated in version 0.22 and will be removed in version 0.24. The corresponding classes / functions should instead be imported from sklearn.tree. Anything that cannot be imported from sklearn.tree is now part of the private API.\n",
      "  warnings.warn(message, FutureWarning)\n"
     ]
    }
   ],
   "source": [
    "import pandas as pd\n",
    "import numpy as np\n",
    "import matplotlib.pyplot as plt\n",
    "\n",
    "from sklearn.tree import export_graphviz\n",
    "from subprocess import call\n",
    "from IPython.display import Image\n",
    "\n",
    "import seaborn as sns\n",
    "from imblearn.under_sampling import RandomUnderSampler\n",
    "\n",
    "from sklearn.model_selection import train_test_split, cross_val_score\n",
    "from sklearn.ensemble import RandomForestClassifier\n",
    "from sklearn.model_selection import RandomizedSearchCV, GridSearchCV\n",
    "from sklearn.tree.export import export_text\n",
    "from sklearn.metrics import accuracy_score, confusion_matrix, mean_squared_error, recall_score, classification_report, f1_score, make_scorer, precision_score"
   ]
  },
  {
   "cell_type": "markdown",
   "metadata": {},
   "source": [
    "# Import et analyse exploratoire des données "
   ]
  },
  {
   "cell_type": "code",
   "execution_count": 2,
   "metadata": {},
   "outputs": [],
   "source": [
    "data = pd.read_csv(\"CarteBancaire.csv\")\n",
    "pd.set_option('display.max_columns', 35)"
   ]
  },
  {
   "cell_type": "code",
   "execution_count": 3,
   "metadata": {},
   "outputs": [
    {
     "data": {
      "text/plain": [
       "(284807, 31)"
      ]
     },
     "execution_count": 3,
     "metadata": {},
     "output_type": "execute_result"
    }
   ],
   "source": [
    "data.shape"
   ]
  },
  {
   "cell_type": "code",
   "execution_count": 4,
   "metadata": {},
   "outputs": [
    {
     "data": {
      "text/html": [
       "<div>\n",
       "<style scoped>\n",
       "    .dataframe tbody tr th:only-of-type {\n",
       "        vertical-align: middle;\n",
       "    }\n",
       "\n",
       "    .dataframe tbody tr th {\n",
       "        vertical-align: top;\n",
       "    }\n",
       "\n",
       "    .dataframe thead th {\n",
       "        text-align: right;\n",
       "    }\n",
       "</style>\n",
       "<table border=\"1\" class=\"dataframe\">\n",
       "  <thead>\n",
       "    <tr style=\"text-align: right;\">\n",
       "      <th></th>\n",
       "      <th>Time</th>\n",
       "      <th>V1</th>\n",
       "      <th>V2</th>\n",
       "      <th>V3</th>\n",
       "      <th>V4</th>\n",
       "      <th>V5</th>\n",
       "      <th>V6</th>\n",
       "      <th>V7</th>\n",
       "      <th>V8</th>\n",
       "      <th>V9</th>\n",
       "      <th>V10</th>\n",
       "      <th>V11</th>\n",
       "      <th>V12</th>\n",
       "      <th>V13</th>\n",
       "      <th>V14</th>\n",
       "      <th>V15</th>\n",
       "      <th>V16</th>\n",
       "      <th>V17</th>\n",
       "      <th>V18</th>\n",
       "      <th>V19</th>\n",
       "      <th>V20</th>\n",
       "      <th>V21</th>\n",
       "      <th>V22</th>\n",
       "      <th>V23</th>\n",
       "      <th>V24</th>\n",
       "      <th>V25</th>\n",
       "      <th>V26</th>\n",
       "      <th>V27</th>\n",
       "      <th>V28</th>\n",
       "      <th>Amount</th>\n",
       "      <th>Class</th>\n",
       "    </tr>\n",
       "  </thead>\n",
       "  <tbody>\n",
       "    <tr>\n",
       "      <th>0</th>\n",
       "      <td>0.0</td>\n",
       "      <td>-1.359807</td>\n",
       "      <td>-0.072781</td>\n",
       "      <td>2.536347</td>\n",
       "      <td>1.378155</td>\n",
       "      <td>-0.338321</td>\n",
       "      <td>0.462388</td>\n",
       "      <td>0.239599</td>\n",
       "      <td>0.098698</td>\n",
       "      <td>0.363787</td>\n",
       "      <td>0.090794</td>\n",
       "      <td>-0.551600</td>\n",
       "      <td>-0.617801</td>\n",
       "      <td>-0.991390</td>\n",
       "      <td>-0.311169</td>\n",
       "      <td>1.468177</td>\n",
       "      <td>-0.470401</td>\n",
       "      <td>0.207971</td>\n",
       "      <td>0.025791</td>\n",
       "      <td>0.403993</td>\n",
       "      <td>0.251412</td>\n",
       "      <td>-0.018307</td>\n",
       "      <td>0.277838</td>\n",
       "      <td>-0.110474</td>\n",
       "      <td>0.066928</td>\n",
       "      <td>0.128539</td>\n",
       "      <td>-0.189115</td>\n",
       "      <td>0.133558</td>\n",
       "      <td>-0.021053</td>\n",
       "      <td>149.62</td>\n",
       "      <td>0</td>\n",
       "    </tr>\n",
       "    <tr>\n",
       "      <th>1</th>\n",
       "      <td>0.0</td>\n",
       "      <td>1.191857</td>\n",
       "      <td>0.266151</td>\n",
       "      <td>0.166480</td>\n",
       "      <td>0.448154</td>\n",
       "      <td>0.060018</td>\n",
       "      <td>-0.082361</td>\n",
       "      <td>-0.078803</td>\n",
       "      <td>0.085102</td>\n",
       "      <td>-0.255425</td>\n",
       "      <td>-0.166974</td>\n",
       "      <td>1.612727</td>\n",
       "      <td>1.065235</td>\n",
       "      <td>0.489095</td>\n",
       "      <td>-0.143772</td>\n",
       "      <td>0.635558</td>\n",
       "      <td>0.463917</td>\n",
       "      <td>-0.114805</td>\n",
       "      <td>-0.183361</td>\n",
       "      <td>-0.145783</td>\n",
       "      <td>-0.069083</td>\n",
       "      <td>-0.225775</td>\n",
       "      <td>-0.638672</td>\n",
       "      <td>0.101288</td>\n",
       "      <td>-0.339846</td>\n",
       "      <td>0.167170</td>\n",
       "      <td>0.125895</td>\n",
       "      <td>-0.008983</td>\n",
       "      <td>0.014724</td>\n",
       "      <td>2.69</td>\n",
       "      <td>0</td>\n",
       "    </tr>\n",
       "    <tr>\n",
       "      <th>2</th>\n",
       "      <td>1.0</td>\n",
       "      <td>-1.358354</td>\n",
       "      <td>-1.340163</td>\n",
       "      <td>1.773209</td>\n",
       "      <td>0.379780</td>\n",
       "      <td>-0.503198</td>\n",
       "      <td>1.800499</td>\n",
       "      <td>0.791461</td>\n",
       "      <td>0.247676</td>\n",
       "      <td>-1.514654</td>\n",
       "      <td>0.207643</td>\n",
       "      <td>0.624501</td>\n",
       "      <td>0.066084</td>\n",
       "      <td>0.717293</td>\n",
       "      <td>-0.165946</td>\n",
       "      <td>2.345865</td>\n",
       "      <td>-2.890083</td>\n",
       "      <td>1.109969</td>\n",
       "      <td>-0.121359</td>\n",
       "      <td>-2.261857</td>\n",
       "      <td>0.524980</td>\n",
       "      <td>0.247998</td>\n",
       "      <td>0.771679</td>\n",
       "      <td>0.909412</td>\n",
       "      <td>-0.689281</td>\n",
       "      <td>-0.327642</td>\n",
       "      <td>-0.139097</td>\n",
       "      <td>-0.055353</td>\n",
       "      <td>-0.059752</td>\n",
       "      <td>378.66</td>\n",
       "      <td>0</td>\n",
       "    </tr>\n",
       "    <tr>\n",
       "      <th>3</th>\n",
       "      <td>1.0</td>\n",
       "      <td>-0.966272</td>\n",
       "      <td>-0.185226</td>\n",
       "      <td>1.792993</td>\n",
       "      <td>-0.863291</td>\n",
       "      <td>-0.010309</td>\n",
       "      <td>1.247203</td>\n",
       "      <td>0.237609</td>\n",
       "      <td>0.377436</td>\n",
       "      <td>-1.387024</td>\n",
       "      <td>-0.054952</td>\n",
       "      <td>-0.226487</td>\n",
       "      <td>0.178228</td>\n",
       "      <td>0.507757</td>\n",
       "      <td>-0.287924</td>\n",
       "      <td>-0.631418</td>\n",
       "      <td>-1.059647</td>\n",
       "      <td>-0.684093</td>\n",
       "      <td>1.965775</td>\n",
       "      <td>-1.232622</td>\n",
       "      <td>-0.208038</td>\n",
       "      <td>-0.108300</td>\n",
       "      <td>0.005274</td>\n",
       "      <td>-0.190321</td>\n",
       "      <td>-1.175575</td>\n",
       "      <td>0.647376</td>\n",
       "      <td>-0.221929</td>\n",
       "      <td>0.062723</td>\n",
       "      <td>0.061458</td>\n",
       "      <td>123.50</td>\n",
       "      <td>0</td>\n",
       "    </tr>\n",
       "    <tr>\n",
       "      <th>4</th>\n",
       "      <td>2.0</td>\n",
       "      <td>-1.158233</td>\n",
       "      <td>0.877737</td>\n",
       "      <td>1.548718</td>\n",
       "      <td>0.403034</td>\n",
       "      <td>-0.407193</td>\n",
       "      <td>0.095921</td>\n",
       "      <td>0.592941</td>\n",
       "      <td>-0.270533</td>\n",
       "      <td>0.817739</td>\n",
       "      <td>0.753074</td>\n",
       "      <td>-0.822843</td>\n",
       "      <td>0.538196</td>\n",
       "      <td>1.345852</td>\n",
       "      <td>-1.119670</td>\n",
       "      <td>0.175121</td>\n",
       "      <td>-0.451449</td>\n",
       "      <td>-0.237033</td>\n",
       "      <td>-0.038195</td>\n",
       "      <td>0.803487</td>\n",
       "      <td>0.408542</td>\n",
       "      <td>-0.009431</td>\n",
       "      <td>0.798278</td>\n",
       "      <td>-0.137458</td>\n",
       "      <td>0.141267</td>\n",
       "      <td>-0.206010</td>\n",
       "      <td>0.502292</td>\n",
       "      <td>0.219422</td>\n",
       "      <td>0.215153</td>\n",
       "      <td>69.99</td>\n",
       "      <td>0</td>\n",
       "    </tr>\n",
       "  </tbody>\n",
       "</table>\n",
       "</div>"
      ],
      "text/plain": [
       "   Time        V1        V2        V3        V4        V5        V6        V7  \\\n",
       "0   0.0 -1.359807 -0.072781  2.536347  1.378155 -0.338321  0.462388  0.239599   \n",
       "1   0.0  1.191857  0.266151  0.166480  0.448154  0.060018 -0.082361 -0.078803   \n",
       "2   1.0 -1.358354 -1.340163  1.773209  0.379780 -0.503198  1.800499  0.791461   \n",
       "3   1.0 -0.966272 -0.185226  1.792993 -0.863291 -0.010309  1.247203  0.237609   \n",
       "4   2.0 -1.158233  0.877737  1.548718  0.403034 -0.407193  0.095921  0.592941   \n",
       "\n",
       "         V8        V9       V10       V11       V12       V13       V14  \\\n",
       "0  0.098698  0.363787  0.090794 -0.551600 -0.617801 -0.991390 -0.311169   \n",
       "1  0.085102 -0.255425 -0.166974  1.612727  1.065235  0.489095 -0.143772   \n",
       "2  0.247676 -1.514654  0.207643  0.624501  0.066084  0.717293 -0.165946   \n",
       "3  0.377436 -1.387024 -0.054952 -0.226487  0.178228  0.507757 -0.287924   \n",
       "4 -0.270533  0.817739  0.753074 -0.822843  0.538196  1.345852 -1.119670   \n",
       "\n",
       "        V15       V16       V17       V18       V19       V20       V21  \\\n",
       "0  1.468177 -0.470401  0.207971  0.025791  0.403993  0.251412 -0.018307   \n",
       "1  0.635558  0.463917 -0.114805 -0.183361 -0.145783 -0.069083 -0.225775   \n",
       "2  2.345865 -2.890083  1.109969 -0.121359 -2.261857  0.524980  0.247998   \n",
       "3 -0.631418 -1.059647 -0.684093  1.965775 -1.232622 -0.208038 -0.108300   \n",
       "4  0.175121 -0.451449 -0.237033 -0.038195  0.803487  0.408542 -0.009431   \n",
       "\n",
       "        V22       V23       V24       V25       V26       V27       V28  \\\n",
       "0  0.277838 -0.110474  0.066928  0.128539 -0.189115  0.133558 -0.021053   \n",
       "1 -0.638672  0.101288 -0.339846  0.167170  0.125895 -0.008983  0.014724   \n",
       "2  0.771679  0.909412 -0.689281 -0.327642 -0.139097 -0.055353 -0.059752   \n",
       "3  0.005274 -0.190321 -1.175575  0.647376 -0.221929  0.062723  0.061458   \n",
       "4  0.798278 -0.137458  0.141267 -0.206010  0.502292  0.219422  0.215153   \n",
       "\n",
       "   Amount  Class  \n",
       "0  149.62      0  \n",
       "1    2.69      0  \n",
       "2  378.66      0  \n",
       "3  123.50      0  \n",
       "4   69.99      0  "
      ]
     },
     "execution_count": 4,
     "metadata": {},
     "output_type": "execute_result"
    }
   ],
   "source": [
    "data.head()"
   ]
  },
  {
   "cell_type": "markdown",
   "metadata": {},
   "source": [
    "Il y a 30 features et un target (Class), les features semblent normaliser sauf Time et Amount"
   ]
  },
  {
   "cell_type": "code",
   "execution_count": 5,
   "metadata": {},
   "outputs": [
    {
     "data": {
      "text/html": [
       "<div>\n",
       "<style scoped>\n",
       "    .dataframe tbody tr th:only-of-type {\n",
       "        vertical-align: middle;\n",
       "    }\n",
       "\n",
       "    .dataframe tbody tr th {\n",
       "        vertical-align: top;\n",
       "    }\n",
       "\n",
       "    .dataframe thead th {\n",
       "        text-align: right;\n",
       "    }\n",
       "</style>\n",
       "<table border=\"1\" class=\"dataframe\">\n",
       "  <thead>\n",
       "    <tr style=\"text-align: right;\">\n",
       "      <th></th>\n",
       "      <th>Time</th>\n",
       "      <th>V1</th>\n",
       "      <th>V2</th>\n",
       "      <th>V3</th>\n",
       "      <th>V4</th>\n",
       "      <th>V5</th>\n",
       "      <th>V6</th>\n",
       "      <th>V7</th>\n",
       "      <th>V8</th>\n",
       "      <th>V9</th>\n",
       "      <th>V10</th>\n",
       "      <th>V11</th>\n",
       "      <th>V12</th>\n",
       "      <th>V13</th>\n",
       "      <th>V14</th>\n",
       "      <th>V15</th>\n",
       "      <th>V16</th>\n",
       "      <th>V17</th>\n",
       "      <th>V18</th>\n",
       "      <th>V19</th>\n",
       "      <th>V20</th>\n",
       "      <th>V21</th>\n",
       "      <th>V22</th>\n",
       "      <th>V23</th>\n",
       "      <th>V24</th>\n",
       "      <th>V25</th>\n",
       "      <th>V26</th>\n",
       "      <th>V27</th>\n",
       "      <th>V28</th>\n",
       "      <th>Amount</th>\n",
       "      <th>Class</th>\n",
       "    </tr>\n",
       "  </thead>\n",
       "  <tbody>\n",
       "    <tr>\n",
       "      <th>count</th>\n",
       "      <td>284807.000000</td>\n",
       "      <td>2.848070e+05</td>\n",
       "      <td>2.848070e+05</td>\n",
       "      <td>2.848070e+05</td>\n",
       "      <td>2.848070e+05</td>\n",
       "      <td>2.848070e+05</td>\n",
       "      <td>2.848070e+05</td>\n",
       "      <td>2.848070e+05</td>\n",
       "      <td>2.848070e+05</td>\n",
       "      <td>2.848070e+05</td>\n",
       "      <td>2.848070e+05</td>\n",
       "      <td>2.848070e+05</td>\n",
       "      <td>2.848070e+05</td>\n",
       "      <td>2.848070e+05</td>\n",
       "      <td>2.848070e+05</td>\n",
       "      <td>2.848070e+05</td>\n",
       "      <td>2.848070e+05</td>\n",
       "      <td>2.848070e+05</td>\n",
       "      <td>2.848070e+05</td>\n",
       "      <td>2.848070e+05</td>\n",
       "      <td>2.848070e+05</td>\n",
       "      <td>2.848070e+05</td>\n",
       "      <td>2.848070e+05</td>\n",
       "      <td>2.848070e+05</td>\n",
       "      <td>2.848070e+05</td>\n",
       "      <td>2.848070e+05</td>\n",
       "      <td>2.848070e+05</td>\n",
       "      <td>2.848070e+05</td>\n",
       "      <td>2.848070e+05</td>\n",
       "      <td>284807.000000</td>\n",
       "      <td>284807.000000</td>\n",
       "    </tr>\n",
       "    <tr>\n",
       "      <th>mean</th>\n",
       "      <td>94813.859575</td>\n",
       "      <td>1.165980e-15</td>\n",
       "      <td>3.416908e-16</td>\n",
       "      <td>-1.373150e-15</td>\n",
       "      <td>2.086869e-15</td>\n",
       "      <td>9.604066e-16</td>\n",
       "      <td>1.490107e-15</td>\n",
       "      <td>-5.556467e-16</td>\n",
       "      <td>1.177556e-16</td>\n",
       "      <td>-2.406455e-15</td>\n",
       "      <td>2.239751e-15</td>\n",
       "      <td>1.673327e-15</td>\n",
       "      <td>-1.254995e-15</td>\n",
       "      <td>8.176030e-16</td>\n",
       "      <td>1.206296e-15</td>\n",
       "      <td>4.913003e-15</td>\n",
       "      <td>1.437666e-15</td>\n",
       "      <td>-3.800113e-16</td>\n",
       "      <td>9.572133e-16</td>\n",
       "      <td>1.039817e-15</td>\n",
       "      <td>6.406703e-16</td>\n",
       "      <td>1.656562e-16</td>\n",
       "      <td>-3.444850e-16</td>\n",
       "      <td>2.578648e-16</td>\n",
       "      <td>4.471968e-15</td>\n",
       "      <td>5.340915e-16</td>\n",
       "      <td>1.687098e-15</td>\n",
       "      <td>-3.666453e-16</td>\n",
       "      <td>-1.220404e-16</td>\n",
       "      <td>88.349619</td>\n",
       "      <td>0.001727</td>\n",
       "    </tr>\n",
       "    <tr>\n",
       "      <th>std</th>\n",
       "      <td>47488.145955</td>\n",
       "      <td>1.958696e+00</td>\n",
       "      <td>1.651309e+00</td>\n",
       "      <td>1.516255e+00</td>\n",
       "      <td>1.415869e+00</td>\n",
       "      <td>1.380247e+00</td>\n",
       "      <td>1.332271e+00</td>\n",
       "      <td>1.237094e+00</td>\n",
       "      <td>1.194353e+00</td>\n",
       "      <td>1.098632e+00</td>\n",
       "      <td>1.088850e+00</td>\n",
       "      <td>1.020713e+00</td>\n",
       "      <td>9.992014e-01</td>\n",
       "      <td>9.952742e-01</td>\n",
       "      <td>9.585956e-01</td>\n",
       "      <td>9.153160e-01</td>\n",
       "      <td>8.762529e-01</td>\n",
       "      <td>8.493371e-01</td>\n",
       "      <td>8.381762e-01</td>\n",
       "      <td>8.140405e-01</td>\n",
       "      <td>7.709250e-01</td>\n",
       "      <td>7.345240e-01</td>\n",
       "      <td>7.257016e-01</td>\n",
       "      <td>6.244603e-01</td>\n",
       "      <td>6.056471e-01</td>\n",
       "      <td>5.212781e-01</td>\n",
       "      <td>4.822270e-01</td>\n",
       "      <td>4.036325e-01</td>\n",
       "      <td>3.300833e-01</td>\n",
       "      <td>250.120109</td>\n",
       "      <td>0.041527</td>\n",
       "    </tr>\n",
       "    <tr>\n",
       "      <th>min</th>\n",
       "      <td>0.000000</td>\n",
       "      <td>-5.640751e+01</td>\n",
       "      <td>-7.271573e+01</td>\n",
       "      <td>-4.832559e+01</td>\n",
       "      <td>-5.683171e+00</td>\n",
       "      <td>-1.137433e+02</td>\n",
       "      <td>-2.616051e+01</td>\n",
       "      <td>-4.355724e+01</td>\n",
       "      <td>-7.321672e+01</td>\n",
       "      <td>-1.343407e+01</td>\n",
       "      <td>-2.458826e+01</td>\n",
       "      <td>-4.797473e+00</td>\n",
       "      <td>-1.868371e+01</td>\n",
       "      <td>-5.791881e+00</td>\n",
       "      <td>-1.921433e+01</td>\n",
       "      <td>-4.498945e+00</td>\n",
       "      <td>-1.412985e+01</td>\n",
       "      <td>-2.516280e+01</td>\n",
       "      <td>-9.498746e+00</td>\n",
       "      <td>-7.213527e+00</td>\n",
       "      <td>-5.449772e+01</td>\n",
       "      <td>-3.483038e+01</td>\n",
       "      <td>-1.093314e+01</td>\n",
       "      <td>-4.480774e+01</td>\n",
       "      <td>-2.836627e+00</td>\n",
       "      <td>-1.029540e+01</td>\n",
       "      <td>-2.604551e+00</td>\n",
       "      <td>-2.256568e+01</td>\n",
       "      <td>-1.543008e+01</td>\n",
       "      <td>0.000000</td>\n",
       "      <td>0.000000</td>\n",
       "    </tr>\n",
       "    <tr>\n",
       "      <th>25%</th>\n",
       "      <td>54201.500000</td>\n",
       "      <td>-9.203734e-01</td>\n",
       "      <td>-5.985499e-01</td>\n",
       "      <td>-8.903648e-01</td>\n",
       "      <td>-8.486401e-01</td>\n",
       "      <td>-6.915971e-01</td>\n",
       "      <td>-7.682956e-01</td>\n",
       "      <td>-5.540759e-01</td>\n",
       "      <td>-2.086297e-01</td>\n",
       "      <td>-6.430976e-01</td>\n",
       "      <td>-5.354257e-01</td>\n",
       "      <td>-7.624942e-01</td>\n",
       "      <td>-4.055715e-01</td>\n",
       "      <td>-6.485393e-01</td>\n",
       "      <td>-4.255740e-01</td>\n",
       "      <td>-5.828843e-01</td>\n",
       "      <td>-4.680368e-01</td>\n",
       "      <td>-4.837483e-01</td>\n",
       "      <td>-4.988498e-01</td>\n",
       "      <td>-4.562989e-01</td>\n",
       "      <td>-2.117214e-01</td>\n",
       "      <td>-2.283949e-01</td>\n",
       "      <td>-5.423504e-01</td>\n",
       "      <td>-1.618463e-01</td>\n",
       "      <td>-3.545861e-01</td>\n",
       "      <td>-3.171451e-01</td>\n",
       "      <td>-3.269839e-01</td>\n",
       "      <td>-7.083953e-02</td>\n",
       "      <td>-5.295979e-02</td>\n",
       "      <td>5.600000</td>\n",
       "      <td>0.000000</td>\n",
       "    </tr>\n",
       "    <tr>\n",
       "      <th>50%</th>\n",
       "      <td>84692.000000</td>\n",
       "      <td>1.810880e-02</td>\n",
       "      <td>6.548556e-02</td>\n",
       "      <td>1.798463e-01</td>\n",
       "      <td>-1.984653e-02</td>\n",
       "      <td>-5.433583e-02</td>\n",
       "      <td>-2.741871e-01</td>\n",
       "      <td>4.010308e-02</td>\n",
       "      <td>2.235804e-02</td>\n",
       "      <td>-5.142873e-02</td>\n",
       "      <td>-9.291738e-02</td>\n",
       "      <td>-3.275735e-02</td>\n",
       "      <td>1.400326e-01</td>\n",
       "      <td>-1.356806e-02</td>\n",
       "      <td>5.060132e-02</td>\n",
       "      <td>4.807155e-02</td>\n",
       "      <td>6.641332e-02</td>\n",
       "      <td>-6.567575e-02</td>\n",
       "      <td>-3.636312e-03</td>\n",
       "      <td>3.734823e-03</td>\n",
       "      <td>-6.248109e-02</td>\n",
       "      <td>-2.945017e-02</td>\n",
       "      <td>6.781943e-03</td>\n",
       "      <td>-1.119293e-02</td>\n",
       "      <td>4.097606e-02</td>\n",
       "      <td>1.659350e-02</td>\n",
       "      <td>-5.213911e-02</td>\n",
       "      <td>1.342146e-03</td>\n",
       "      <td>1.124383e-02</td>\n",
       "      <td>22.000000</td>\n",
       "      <td>0.000000</td>\n",
       "    </tr>\n",
       "    <tr>\n",
       "      <th>75%</th>\n",
       "      <td>139320.500000</td>\n",
       "      <td>1.315642e+00</td>\n",
       "      <td>8.037239e-01</td>\n",
       "      <td>1.027196e+00</td>\n",
       "      <td>7.433413e-01</td>\n",
       "      <td>6.119264e-01</td>\n",
       "      <td>3.985649e-01</td>\n",
       "      <td>5.704361e-01</td>\n",
       "      <td>3.273459e-01</td>\n",
       "      <td>5.971390e-01</td>\n",
       "      <td>4.539234e-01</td>\n",
       "      <td>7.395934e-01</td>\n",
       "      <td>6.182380e-01</td>\n",
       "      <td>6.625050e-01</td>\n",
       "      <td>4.931498e-01</td>\n",
       "      <td>6.488208e-01</td>\n",
       "      <td>5.232963e-01</td>\n",
       "      <td>3.996750e-01</td>\n",
       "      <td>5.008067e-01</td>\n",
       "      <td>4.589494e-01</td>\n",
       "      <td>1.330408e-01</td>\n",
       "      <td>1.863772e-01</td>\n",
       "      <td>5.285536e-01</td>\n",
       "      <td>1.476421e-01</td>\n",
       "      <td>4.395266e-01</td>\n",
       "      <td>3.507156e-01</td>\n",
       "      <td>2.409522e-01</td>\n",
       "      <td>9.104512e-02</td>\n",
       "      <td>7.827995e-02</td>\n",
       "      <td>77.165000</td>\n",
       "      <td>0.000000</td>\n",
       "    </tr>\n",
       "    <tr>\n",
       "      <th>max</th>\n",
       "      <td>172792.000000</td>\n",
       "      <td>2.454930e+00</td>\n",
       "      <td>2.205773e+01</td>\n",
       "      <td>9.382558e+00</td>\n",
       "      <td>1.687534e+01</td>\n",
       "      <td>3.480167e+01</td>\n",
       "      <td>7.330163e+01</td>\n",
       "      <td>1.205895e+02</td>\n",
       "      <td>2.000721e+01</td>\n",
       "      <td>1.559499e+01</td>\n",
       "      <td>2.374514e+01</td>\n",
       "      <td>1.201891e+01</td>\n",
       "      <td>7.848392e+00</td>\n",
       "      <td>7.126883e+00</td>\n",
       "      <td>1.052677e+01</td>\n",
       "      <td>8.877742e+00</td>\n",
       "      <td>1.731511e+01</td>\n",
       "      <td>9.253526e+00</td>\n",
       "      <td>5.041069e+00</td>\n",
       "      <td>5.591971e+00</td>\n",
       "      <td>3.942090e+01</td>\n",
       "      <td>2.720284e+01</td>\n",
       "      <td>1.050309e+01</td>\n",
       "      <td>2.252841e+01</td>\n",
       "      <td>4.584549e+00</td>\n",
       "      <td>7.519589e+00</td>\n",
       "      <td>3.517346e+00</td>\n",
       "      <td>3.161220e+01</td>\n",
       "      <td>3.384781e+01</td>\n",
       "      <td>25691.160000</td>\n",
       "      <td>1.000000</td>\n",
       "    </tr>\n",
       "  </tbody>\n",
       "</table>\n",
       "</div>"
      ],
      "text/plain": [
       "                Time            V1            V2            V3            V4  \\\n",
       "count  284807.000000  2.848070e+05  2.848070e+05  2.848070e+05  2.848070e+05   \n",
       "mean    94813.859575  1.165980e-15  3.416908e-16 -1.373150e-15  2.086869e-15   \n",
       "std     47488.145955  1.958696e+00  1.651309e+00  1.516255e+00  1.415869e+00   \n",
       "min         0.000000 -5.640751e+01 -7.271573e+01 -4.832559e+01 -5.683171e+00   \n",
       "25%     54201.500000 -9.203734e-01 -5.985499e-01 -8.903648e-01 -8.486401e-01   \n",
       "50%     84692.000000  1.810880e-02  6.548556e-02  1.798463e-01 -1.984653e-02   \n",
       "75%    139320.500000  1.315642e+00  8.037239e-01  1.027196e+00  7.433413e-01   \n",
       "max    172792.000000  2.454930e+00  2.205773e+01  9.382558e+00  1.687534e+01   \n",
       "\n",
       "                 V5            V6            V7            V8            V9  \\\n",
       "count  2.848070e+05  2.848070e+05  2.848070e+05  2.848070e+05  2.848070e+05   \n",
       "mean   9.604066e-16  1.490107e-15 -5.556467e-16  1.177556e-16 -2.406455e-15   \n",
       "std    1.380247e+00  1.332271e+00  1.237094e+00  1.194353e+00  1.098632e+00   \n",
       "min   -1.137433e+02 -2.616051e+01 -4.355724e+01 -7.321672e+01 -1.343407e+01   \n",
       "25%   -6.915971e-01 -7.682956e-01 -5.540759e-01 -2.086297e-01 -6.430976e-01   \n",
       "50%   -5.433583e-02 -2.741871e-01  4.010308e-02  2.235804e-02 -5.142873e-02   \n",
       "75%    6.119264e-01  3.985649e-01  5.704361e-01  3.273459e-01  5.971390e-01   \n",
       "max    3.480167e+01  7.330163e+01  1.205895e+02  2.000721e+01  1.559499e+01   \n",
       "\n",
       "                V10           V11           V12           V13           V14  \\\n",
       "count  2.848070e+05  2.848070e+05  2.848070e+05  2.848070e+05  2.848070e+05   \n",
       "mean   2.239751e-15  1.673327e-15 -1.254995e-15  8.176030e-16  1.206296e-15   \n",
       "std    1.088850e+00  1.020713e+00  9.992014e-01  9.952742e-01  9.585956e-01   \n",
       "min   -2.458826e+01 -4.797473e+00 -1.868371e+01 -5.791881e+00 -1.921433e+01   \n",
       "25%   -5.354257e-01 -7.624942e-01 -4.055715e-01 -6.485393e-01 -4.255740e-01   \n",
       "50%   -9.291738e-02 -3.275735e-02  1.400326e-01 -1.356806e-02  5.060132e-02   \n",
       "75%    4.539234e-01  7.395934e-01  6.182380e-01  6.625050e-01  4.931498e-01   \n",
       "max    2.374514e+01  1.201891e+01  7.848392e+00  7.126883e+00  1.052677e+01   \n",
       "\n",
       "                V15           V16           V17           V18           V19  \\\n",
       "count  2.848070e+05  2.848070e+05  2.848070e+05  2.848070e+05  2.848070e+05   \n",
       "mean   4.913003e-15  1.437666e-15 -3.800113e-16  9.572133e-16  1.039817e-15   \n",
       "std    9.153160e-01  8.762529e-01  8.493371e-01  8.381762e-01  8.140405e-01   \n",
       "min   -4.498945e+00 -1.412985e+01 -2.516280e+01 -9.498746e+00 -7.213527e+00   \n",
       "25%   -5.828843e-01 -4.680368e-01 -4.837483e-01 -4.988498e-01 -4.562989e-01   \n",
       "50%    4.807155e-02  6.641332e-02 -6.567575e-02 -3.636312e-03  3.734823e-03   \n",
       "75%    6.488208e-01  5.232963e-01  3.996750e-01  5.008067e-01  4.589494e-01   \n",
       "max    8.877742e+00  1.731511e+01  9.253526e+00  5.041069e+00  5.591971e+00   \n",
       "\n",
       "                V20           V21           V22           V23           V24  \\\n",
       "count  2.848070e+05  2.848070e+05  2.848070e+05  2.848070e+05  2.848070e+05   \n",
       "mean   6.406703e-16  1.656562e-16 -3.444850e-16  2.578648e-16  4.471968e-15   \n",
       "std    7.709250e-01  7.345240e-01  7.257016e-01  6.244603e-01  6.056471e-01   \n",
       "min   -5.449772e+01 -3.483038e+01 -1.093314e+01 -4.480774e+01 -2.836627e+00   \n",
       "25%   -2.117214e-01 -2.283949e-01 -5.423504e-01 -1.618463e-01 -3.545861e-01   \n",
       "50%   -6.248109e-02 -2.945017e-02  6.781943e-03 -1.119293e-02  4.097606e-02   \n",
       "75%    1.330408e-01  1.863772e-01  5.285536e-01  1.476421e-01  4.395266e-01   \n",
       "max    3.942090e+01  2.720284e+01  1.050309e+01  2.252841e+01  4.584549e+00   \n",
       "\n",
       "                V25           V26           V27           V28         Amount  \\\n",
       "count  2.848070e+05  2.848070e+05  2.848070e+05  2.848070e+05  284807.000000   \n",
       "mean   5.340915e-16  1.687098e-15 -3.666453e-16 -1.220404e-16      88.349619   \n",
       "std    5.212781e-01  4.822270e-01  4.036325e-01  3.300833e-01     250.120109   \n",
       "min   -1.029540e+01 -2.604551e+00 -2.256568e+01 -1.543008e+01       0.000000   \n",
       "25%   -3.171451e-01 -3.269839e-01 -7.083953e-02 -5.295979e-02       5.600000   \n",
       "50%    1.659350e-02 -5.213911e-02  1.342146e-03  1.124383e-02      22.000000   \n",
       "75%    3.507156e-01  2.409522e-01  9.104512e-02  7.827995e-02      77.165000   \n",
       "max    7.519589e+00  3.517346e+00  3.161220e+01  3.384781e+01   25691.160000   \n",
       "\n",
       "               Class  \n",
       "count  284807.000000  \n",
       "mean        0.001727  \n",
       "std         0.041527  \n",
       "min         0.000000  \n",
       "25%         0.000000  \n",
       "50%         0.000000  \n",
       "75%         0.000000  \n",
       "max         1.000000  "
      ]
     },
     "execution_count": 5,
     "metadata": {},
     "output_type": "execute_result"
    }
   ],
   "source": [
    "data.describe()"
   ]
  },
  {
   "cell_type": "code",
   "execution_count": 6,
   "metadata": {},
   "outputs": [
    {
     "data": {
      "text/plain": [
       "False"
      ]
     },
     "execution_count": 6,
     "metadata": {},
     "output_type": "execute_result"
    }
   ],
   "source": [
    "data.isnull().sum().any()"
   ]
  },
  {
   "cell_type": "markdown",
   "metadata": {},
   "source": [
    "Pas de valeur nuls"
   ]
  },
  {
   "cell_type": "code",
   "execution_count": 7,
   "metadata": {},
   "outputs": [
    {
     "data": {
      "text/plain": [
       "Text(0.5, 1.0, 'Distribution des classes du dataset')"
      ]
     },
     "execution_count": 7,
     "metadata": {},
     "output_type": "execute_result"
    },
    {
     "data": {
      "image/png": "[encoded data removed]",
      "text/plain": [
       "<Figure size 360x360 with 1 Axes>"
      ]
     },
     "metadata": {
      "needs_background": "light"
     },
     "output_type": "display_data"
    }
   ],
   "source": [
    "target, freq = np.unique(data['Class'], return_counts=True)\n",
    "\n",
    "plt.figure(figsize=(5,5))\n",
    "plt.ylabel('Fréquence', fontsize=10)\n",
    "plt.xlabel('Classe', fontsize=10)\n",
    "sns.barplot(target, freq)\n",
    "plt.title('Distribution des classes du dataset')"
   ]
  },
  {
   "cell_type": "markdown",
   "metadata": {},
   "source": [
    "Les classes (0: pas de fraude , 1: fraude) sont mal distribués si nous utilisons ces données avec notre modèle Random Forest nous allons certainement nous retrouver face à un problème de sur-apprentissage car le classifieur va supposer que dans la majorité des cas il n'y a pas de fraudes donc ne va pas pouvoir reconnaitre une opération frauduleuse et va prédire seulement la classe 0. (cette élément est déja donnée dans l'énoncé du sujet)"
   ]
  },
  {
   "cell_type": "code",
   "execution_count": 8,
   "metadata": {},
   "outputs": [
    {
     "data": {
      "text/html": [
       "<div>\n",
       "<style scoped>\n",
       "    .dataframe tbody tr th:only-of-type {\n",
       "        vertical-align: middle;\n",
       "    }\n",
       "\n",
       "    .dataframe tbody tr th {\n",
       "        vertical-align: top;\n",
       "    }\n",
       "\n",
       "    .dataframe thead th {\n",
       "        text-align: right;\n",
       "    }\n",
       "</style>\n",
       "<table border=\"1\" class=\"dataframe\">\n",
       "  <thead>\n",
       "    <tr style=\"text-align: right;\">\n",
       "      <th></th>\n",
       "      <th>Time</th>\n",
       "      <th>V1</th>\n",
       "      <th>V2</th>\n",
       "      <th>V3</th>\n",
       "      <th>V4</th>\n",
       "      <th>V5</th>\n",
       "      <th>V6</th>\n",
       "      <th>V7</th>\n",
       "      <th>V8</th>\n",
       "      <th>V9</th>\n",
       "      <th>V10</th>\n",
       "      <th>V11</th>\n",
       "      <th>V12</th>\n",
       "      <th>V13</th>\n",
       "      <th>V14</th>\n",
       "      <th>V15</th>\n",
       "      <th>V16</th>\n",
       "      <th>V17</th>\n",
       "      <th>V18</th>\n",
       "      <th>V19</th>\n",
       "      <th>V20</th>\n",
       "      <th>V21</th>\n",
       "      <th>V22</th>\n",
       "      <th>V23</th>\n",
       "      <th>V24</th>\n",
       "      <th>V25</th>\n",
       "      <th>V26</th>\n",
       "      <th>V27</th>\n",
       "      <th>V28</th>\n",
       "      <th>Amount</th>\n",
       "    </tr>\n",
       "  </thead>\n",
       "  <tbody>\n",
       "    <tr>\n",
       "      <th>157581</th>\n",
       "      <td>110082.0</td>\n",
       "      <td>2.037815</td>\n",
       "      <td>0.321527</td>\n",
       "      <td>-1.616959</td>\n",
       "      <td>1.356635</td>\n",
       "      <td>0.823330</td>\n",
       "      <td>-0.497569</td>\n",
       "      <td>0.443958</td>\n",
       "      <td>-0.333266</td>\n",
       "      <td>1.226057</td>\n",
       "      <td>0.053824</td>\n",
       "      <td>1.279668</td>\n",
       "      <td>-1.530908</td>\n",
       "      <td>1.607592</td>\n",
       "      <td>2.088073</td>\n",
       "      <td>-1.947551</td>\n",
       "      <td>-0.442725</td>\n",
       "      <td>0.165159</td>\n",
       "      <td>0.236344</td>\n",
       "      <td>0.046273</td>\n",
       "      <td>-0.318898</td>\n",
       "      <td>-0.082677</td>\n",
       "      <td>0.234229</td>\n",
       "      <td>-0.058537</td>\n",
       "      <td>-0.601710</td>\n",
       "      <td>0.480195</td>\n",
       "      <td>-0.515427</td>\n",
       "      <td>-0.042890</td>\n",
       "      <td>-0.084355</td>\n",
       "      <td>1.00</td>\n",
       "    </tr>\n",
       "    <tr>\n",
       "      <th>66212</th>\n",
       "      <td>51937.0</td>\n",
       "      <td>1.213999</td>\n",
       "      <td>0.296710</td>\n",
       "      <td>0.275315</td>\n",
       "      <td>0.644645</td>\n",
       "      <td>-0.197853</td>\n",
       "      <td>-0.606737</td>\n",
       "      <td>-0.001937</td>\n",
       "      <td>-0.056514</td>\n",
       "      <td>0.051689</td>\n",
       "      <td>-0.322127</td>\n",
       "      <td>0.129272</td>\n",
       "      <td>0.239848</td>\n",
       "      <td>0.055148</td>\n",
       "      <td>-0.229261</td>\n",
       "      <td>1.362377</td>\n",
       "      <td>0.193123</td>\n",
       "      <td>0.281662</td>\n",
       "      <td>-0.729666</td>\n",
       "      <td>-0.555561</td>\n",
       "      <td>-0.123186</td>\n",
       "      <td>-0.262023</td>\n",
       "      <td>-0.727644</td>\n",
       "      <td>0.161105</td>\n",
       "      <td>0.029764</td>\n",
       "      <td>0.138361</td>\n",
       "      <td>0.124678</td>\n",
       "      <td>-0.007482</td>\n",
       "      <td>0.027000</td>\n",
       "      <td>1.29</td>\n",
       "    </tr>\n",
       "    <tr>\n",
       "      <th>217199</th>\n",
       "      <td>140803.0</td>\n",
       "      <td>-0.920435</td>\n",
       "      <td>0.987817</td>\n",
       "      <td>-0.063312</td>\n",
       "      <td>1.119036</td>\n",
       "      <td>2.044779</td>\n",
       "      <td>-0.616767</td>\n",
       "      <td>1.373498</td>\n",
       "      <td>-0.198479</td>\n",
       "      <td>-1.203047</td>\n",
       "      <td>-1.057857</td>\n",
       "      <td>-0.661957</td>\n",
       "      <td>-0.228591</td>\n",
       "      <td>0.367054</td>\n",
       "      <td>-1.135852</td>\n",
       "      <td>0.036734</td>\n",
       "      <td>-0.680857</td>\n",
       "      <td>1.320352</td>\n",
       "      <td>0.352623</td>\n",
       "      <td>0.777224</td>\n",
       "      <td>0.366071</td>\n",
       "      <td>0.035964</td>\n",
       "      <td>0.022339</td>\n",
       "      <td>-0.419376</td>\n",
       "      <td>0.421122</td>\n",
       "      <td>1.222767</td>\n",
       "      <td>-0.209164</td>\n",
       "      <td>0.025969</td>\n",
       "      <td>0.102848</td>\n",
       "      <td>56.29</td>\n",
       "    </tr>\n",
       "  </tbody>\n",
       "</table>\n",
       "</div>"
      ],
      "text/plain": [
       "            Time        V1        V2        V3        V4        V5        V6  \\\n",
       "157581  110082.0  2.037815  0.321527 -1.616959  1.356635  0.823330 -0.497569   \n",
       "66212    51937.0  1.213999  0.296710  0.275315  0.644645 -0.197853 -0.606737   \n",
       "217199  140803.0 -0.920435  0.987817 -0.063312  1.119036  2.044779 -0.616767   \n",
       "\n",
       "              V7        V8        V9       V10       V11       V12       V13  \\\n",
       "157581  0.443958 -0.333266  1.226057  0.053824  1.279668 -1.530908  1.607592   \n",
       "66212  -0.001937 -0.056514  0.051689 -0.322127  0.129272  0.239848  0.055148   \n",
       "217199  1.373498 -0.198479 -1.203047 -1.057857 -0.661957 -0.228591  0.367054   \n",
       "\n",
       "             V14       V15       V16       V17       V18       V19       V20  \\\n",
       "157581  2.088073 -1.947551 -0.442725  0.165159  0.236344  0.046273 -0.318898   \n",
       "66212  -0.229261  1.362377  0.193123  0.281662 -0.729666 -0.555561 -0.123186   \n",
       "217199 -1.135852  0.036734 -0.680857  1.320352  0.352623  0.777224  0.366071   \n",
       "\n",
       "             V21       V22       V23       V24       V25       V26       V27  \\\n",
       "157581 -0.082677  0.234229 -0.058537 -0.601710  0.480195 -0.515427 -0.042890   \n",
       "66212  -0.262023 -0.727644  0.161105  0.029764  0.138361  0.124678 -0.007482   \n",
       "217199  0.035964  0.022339 -0.419376  0.421122  1.222767 -0.209164  0.025969   \n",
       "\n",
       "             V28  Amount  \n",
       "157581 -0.084355    1.00  \n",
       "66212   0.027000    1.29  \n",
       "217199  0.102848   56.29  "
      ]
     },
     "execution_count": 8,
     "metadata": {},
     "output_type": "execute_result"
    }
   ],
   "source": [
    "train = data.drop(['Class'], axis='columns').copy()\n",
    "train.sample(3)"
   ]
  },
  {
   "cell_type": "code",
   "execution_count": 9,
   "metadata": {},
   "outputs": [
    {
     "data": {
      "text/html": [
       "<div>\n",
       "<style scoped>\n",
       "    .dataframe tbody tr th:only-of-type {\n",
       "        vertical-align: middle;\n",
       "    }\n",
       "\n",
       "    .dataframe tbody tr th {\n",
       "        vertical-align: top;\n",
       "    }\n",
       "\n",
       "    .dataframe thead th {\n",
       "        text-align: right;\n",
       "    }\n",
       "</style>\n",
       "<table border=\"1\" class=\"dataframe\">\n",
       "  <thead>\n",
       "    <tr style=\"text-align: right;\">\n",
       "      <th></th>\n",
       "      <th>Class</th>\n",
       "    </tr>\n",
       "  </thead>\n",
       "  <tbody>\n",
       "    <tr>\n",
       "      <th>157504</th>\n",
       "      <td>0</td>\n",
       "    </tr>\n",
       "    <tr>\n",
       "      <th>154374</th>\n",
       "      <td>0</td>\n",
       "    </tr>\n",
       "    <tr>\n",
       "      <th>146237</th>\n",
       "      <td>0</td>\n",
       "    </tr>\n",
       "  </tbody>\n",
       "</table>\n",
       "</div>"
      ],
      "text/plain": [
       "        Class\n",
       "157504      0\n",
       "154374      0\n",
       "146237      0"
      ]
     },
     "execution_count": 9,
     "metadata": {},
     "output_type": "execute_result"
    }
   ],
   "source": [
    "y = data[['Class']].copy()\n",
    "y.sample(3)"
   ]
  },
  {
   "cell_type": "markdown",
   "metadata": {},
   "source": [
    "    "
   ]
  },
  {
   "cell_type": "markdown",
   "metadata": {},
   "source": [
    "   "
   ]
  },
  {
   "cell_type": "markdown",
   "metadata": {},
   "source": [
    "   "
   ]
  },
  {
   "cell_type": "markdown",
   "metadata": {},
   "source": [
    "## Modèle Random Forest sur les données d'origine\n",
    "\n",
    "   "
   ]
  },
  {
   "cell_type": "code",
   "execution_count": 10,
   "metadata": {},
   "outputs": [],
   "source": [
    "X_train1, X_test1, y_train1, y_test1 = train_test_split(train, y, test_size=0.2, random_state=0)"
   ]
  },
  {
   "cell_type": "code",
   "execution_count": 11,
   "metadata": {},
   "outputs": [
    {
     "data": {
      "text/plain": [
       "(227845, 30)"
      ]
     },
     "execution_count": 11,
     "metadata": {},
     "output_type": "execute_result"
    }
   ],
   "source": [
    "X_train1.shape"
   ]
  },
  {
   "cell_type": "code",
   "execution_count": 12,
   "metadata": {},
   "outputs": [
    {
     "data": {
      "text/plain": [
       "(56962, 30)"
      ]
     },
     "execution_count": 12,
     "metadata": {},
     "output_type": "execute_result"
    }
   ],
   "source": [
    "X_test1.shape"
   ]
  },
  {
   "cell_type": "markdown",
   "metadata": {},
   "source": [
    "#### A la recherche des meilleures paramètres du classifieur"
   ]
  },
  {
   "cell_type": "code",
   "execution_count": 21,
   "metadata": {},
   "outputs": [],
   "source": [
    "n_estimators = np.arange(10,100,10)\n",
    "\n",
    "max_depth = np.arange(1,10,2)\n",
    "np.append(max_depth,None)\n",
    "\n",
    "min_samples_split = np.arange(1,10,2)\n",
    "np.append(min_samples_split, None)\n",
    "\n",
    "min_samples_leaf = np.arange(1,10,2) \n",
    "np.append(min_samples_leaf, None)\n",
    "\n",
    "bootstrap = [True, False]\n",
    "criterion = ['gini', 'entropy']\n",
    "\n",
    "max_features = ['auto', 'sqrt']\n",
    "\n",
    "clf1 = RandomForestClassifier()\n",
    "\n",
    "hyperP = dict(n_estimators=n_estimators, max_depth=max_depth, \n",
    "              min_samples_split=min_samples_split, min_samples_leaf=min_samples_leaf, bootstrap=bootstrap ,max_features=max_features, criterion=criterion)\n",
    "\n",
    "grid1 = RandomizedSearchCV(clf1, hyperP, verbose=1, n_jobs=-1, scoring=\"accuracy\")"
   ]
  },
  {
   "cell_type": "code",
   "execution_count": 22,
   "metadata": {},
   "outputs": [
    {
     "name": "stdout",
     "output_type": "stream",
     "text": [
      "Fitting 5 folds for each of 10 candidates, totalling 50 fits\n"
     ]
    },
    {
     "name": "stderr",
     "output_type": "stream",
     "text": [
      "[Parallel(n_jobs=-1)]: Using backend LokyBackend with 8 concurrent workers.\n",
      "[Parallel(n_jobs=-1)]: Done  34 tasks      | elapsed:  3.1min\n",
      "[Parallel(n_jobs=-1)]: Done  50 out of  50 | elapsed:  4.4min finished\n"
     ]
    }
   ],
   "source": [
    "bestP1 = grid1.fit(X_train1, y_train1.values.ravel()) "
   ]
  },
  {
   "cell_type": "code",
   "execution_count": 23,
   "metadata": {},
   "outputs": [
    {
     "name": "stdout",
     "output_type": "stream",
     "text": [
      "Les paramètres du meilleures estimateurs obtenue :\n",
      " RandomForestClassifier(bootstrap=False, ccp_alpha=0.0, class_weight=None,\n",
      "                       criterion='gini', max_depth=9, max_features='sqrt',\n",
      "                       max_leaf_nodes=None, max_samples=None,\n",
      "                       min_impurity_decrease=0.0, min_impurity_split=None,\n",
      "                       min_samples_leaf=3, min_samples_split=5,\n",
      "                       min_weight_fraction_leaf=0.0, n_estimators=80,\n",
      "                       n_jobs=None, oob_score=False, random_state=None,\n",
      "                       verbose=0, warm_start=False)\n"
     ]
    }
   ],
   "source": [
    "best_clf1 = grid1.best_estimator_\n",
    "print('Les paramètres du meilleures estimateurs obtenue :\\n', best_clf1)"
   ]
  },
  {
   "cell_type": "markdown",
   "metadata": {},
   "source": [
    "best_clf1_cpy =  RandomForestClassifier(bootstrap=False, ccp_alpha=0.0, class_weight=None,\n",
    "                       criterion='gini', max_depth=7, max_features='sqrt',\n",
    "                       max_leaf_nodes=None, max_samples=None,\n",
    "                       min_impurity_decrease=0.0, min_impurity_split=None,\n",
    "                       min_samples_leaf=9, min_samples_split=9,\n",
    "                       min_weight_fraction_leaf=0.0, n_estimators=20,\n",
    "                       n_jobs=None, oob_score=False, random_state=None,\n",
    "                       verbose=0, warm_start=False)"
   ]
  },
  {
   "cell_type": "code",
   "execution_count": 24,
   "metadata": {},
   "outputs": [
    {
     "name": "stdout",
     "output_type": "stream",
     "text": [
      "Score moyen en utilisant la cross-validation du meilleure estimateur: 0.9995303824968728\n"
     ]
    }
   ],
   "source": [
    "print('Score moyen en utilisant la cross-validation du meilleure estimateur:', grid1.best_score_ )"
   ]
  },
  {
   "cell_type": "code",
   "execution_count": 113,
   "metadata": {},
   "outputs": [
    {
     "name": "stdout",
     "output_type": "stream",
     "text": [
      "Accuracy:  0.9994557775359011\n",
      "Taux d'erreur : 0.0005442224640989091\n",
      "Recall score :  0.7623762376237624\n",
      "Miss-rate :  0.2376237623762376\n"
     ]
    }
   ],
   "source": [
    "predicted1 = best_clf1.predict(X_test1)\n",
    "score1 = accuracy_score(y_test1, predicted1)\n",
    "recall_score1 = recall_score(y_test1,predicted1)\n",
    "print('Accuracy: ', score1)\n",
    "print(\"Taux d'erreur :\",1-score1)\n",
    "print('Recall score : ', recall_score1)\n",
    "print(\"Miss-rate : \", 1-recall_score1)"
   ]
  },
  {
   "cell_type": "code",
   "execution_count": 26,
   "metadata": {},
   "outputs": [
    {
     "name": "stdout",
     "output_type": "stream",
     "text": [
      "              precision    recall  f1-score   support\n",
      "\n",
      "           0       1.00      1.00      1.00     56861\n",
      "           1       0.92      0.76      0.83       101\n",
      "\n",
      "    accuracy                           1.00     56962\n",
      "   macro avg       0.96      0.88      0.92     56962\n",
      "weighted avg       1.00      1.00      1.00     56962\n",
      "\n"
     ]
    }
   ],
   "source": [
    "print(classification_report(y_test1, predicted1))"
   ]
  },
  {
   "cell_type": "code",
   "execution_count": 27,
   "metadata": {},
   "outputs": [
    {
     "data": {
      "image/png": "[encoded data removed]",
      "text/plain": [
       "<Figure size 1080x720 with 2 Axes>"
      ]
     },
     "metadata": {
      "needs_background": "light"
     },
     "output_type": "display_data"
    }
   ],
   "source": [
    "conf_mat = confusion_matrix(y_test1, predicted1)\n",
    "labels = ['0','1']\n",
    "fig,ax = plt.subplots(figsize=(15,10))\n",
    "sns.heatmap(conf_mat, annot=True, cmap=\"Set3\", fmt=\"d\", xticklabels = labels, yticklabels = labels)\n",
    "plt.ylabel('Vraie valeur')\n",
    "plt.xlabel('Predite')\n",
    "plt.title('Matrice de confusion')\n",
    "plt.show()"
   ]
  },
  {
   "cell_type": "markdown",
   "metadata": {},
   "source": [
    "On remarque bien le phénomène de sur-apprentissage sur les données, nous allons ensuite échantilloné nos données"
   ]
  },
  {
   "cell_type": "code",
   "execution_count": 28,
   "metadata": {},
   "outputs": [],
   "source": [
    "def min_max_classifieur(Rd,n_estimators,X_test,y_test):\n",
    "    min=1\n",
    "    max=0\n",
    "    i_min=100000\n",
    "    i_max=100000\n",
    "    for i in range (0,n_estimators):\n",
    "        clf=Rd.estimators_[i]\n",
    "        predicted=clf.predict(X_test)\n",
    "        score=recall_score(y_test,predicted)\n",
    "        if (score<min):\n",
    "            min =score\n",
    "            i_min=i\n",
    "        else:\n",
    "            if (score>max):\n",
    "                max=score\n",
    "                i_max=i\n",
    "    \n",
    "    print(\"i_min :\",i_min, \", recall_min :\",min,\"miss-rate max: \", 1-min)\n",
    "    print(\"i_max :\",i_max, \", recall_max :\" ,max,\"miss-rate min :\", 1-max)     "
   ]
  },
  {
   "cell_type": "code",
   "execution_count": 29,
   "metadata": {},
   "outputs": [
    {
     "name": "stdout",
     "output_type": "stream",
     "text": [
      "i_min : 4 , recall_min : 0.6039603960396039 miss-rate max:  0.39603960396039606\n",
      "i_max : 55 , recall_max : 0.801980198019802 miss-rate min : 0.19801980198019797\n"
     ]
    }
   ],
   "source": [
    "min_max_classifieur(best_clf1,60,X_test1,y_test1)"
   ]
  },
  {
   "cell_type": "markdown",
   "metadata": {},
   "source": [
    "## Modèle RandomForest sur les données sous-échantilloné (under-sampling)"
   ]
  },
  {
   "cell_type": "code",
   "execution_count": 68,
   "metadata": {},
   "outputs": [],
   "source": [
    "rus = RandomUnderSampler()\n",
    "X_under_sampled, y_under_sampled = rus.fit_resample(train, y)"
   ]
  },
  {
   "cell_type": "code",
   "execution_count": 69,
   "metadata": {},
   "outputs": [
    {
     "data": {
      "text/html": [
       "<div>\n",
       "<style scoped>\n",
       "    .dataframe tbody tr th:only-of-type {\n",
       "        vertical-align: middle;\n",
       "    }\n",
       "\n",
       "    .dataframe tbody tr th {\n",
       "        vertical-align: top;\n",
       "    }\n",
       "\n",
       "    .dataframe thead th {\n",
       "        text-align: right;\n",
       "    }\n",
       "</style>\n",
       "<table border=\"1\" class=\"dataframe\">\n",
       "  <thead>\n",
       "    <tr style=\"text-align: right;\">\n",
       "      <th></th>\n",
       "      <th>Time</th>\n",
       "      <th>V1</th>\n",
       "      <th>V2</th>\n",
       "      <th>V3</th>\n",
       "      <th>V4</th>\n",
       "      <th>V5</th>\n",
       "      <th>V6</th>\n",
       "      <th>V7</th>\n",
       "      <th>V8</th>\n",
       "      <th>V9</th>\n",
       "      <th>V10</th>\n",
       "      <th>V11</th>\n",
       "      <th>V12</th>\n",
       "      <th>V13</th>\n",
       "      <th>V14</th>\n",
       "      <th>V15</th>\n",
       "      <th>V16</th>\n",
       "      <th>V17</th>\n",
       "      <th>V18</th>\n",
       "      <th>V19</th>\n",
       "      <th>V20</th>\n",
       "      <th>V21</th>\n",
       "      <th>V22</th>\n",
       "      <th>V23</th>\n",
       "      <th>V24</th>\n",
       "      <th>V25</th>\n",
       "      <th>V26</th>\n",
       "      <th>V27</th>\n",
       "      <th>V28</th>\n",
       "      <th>Amount</th>\n",
       "    </tr>\n",
       "  </thead>\n",
       "  <tbody>\n",
       "    <tr>\n",
       "      <th>775</th>\n",
       "      <td>88672.0</td>\n",
       "      <td>-3.859881</td>\n",
       "      <td>2.632881</td>\n",
       "      <td>-5.264265</td>\n",
       "      <td>3.446113</td>\n",
       "      <td>-0.675231</td>\n",
       "      <td>-1.904959</td>\n",
       "      <td>-3.291041</td>\n",
       "      <td>-0.985766</td>\n",
       "      <td>-1.168114</td>\n",
       "      <td>-3.936294</td>\n",
       "      <td>4.256564</td>\n",
       "      <td>-6.600654</td>\n",
       "      <td>0.005626</td>\n",
       "      <td>-9.958531</td>\n",
       "      <td>2.471358</td>\n",
       "      <td>-5.700141</td>\n",
       "      <td>-6.388093</td>\n",
       "      <td>-1.838159</td>\n",
       "      <td>2.993174</td>\n",
       "      <td>-0.178626</td>\n",
       "      <td>1.664119</td>\n",
       "      <td>0.785075</td>\n",
       "      <td>0.068412</td>\n",
       "      <td>0.778961</td>\n",
       "      <td>-0.863166</td>\n",
       "      <td>-0.006810</td>\n",
       "      <td>-1.065734</td>\n",
       "      <td>1.773326</td>\n",
       "      <td>1.18</td>\n",
       "    </tr>\n",
       "    <tr>\n",
       "      <th>680</th>\n",
       "      <td>57007.0</td>\n",
       "      <td>-1.271244</td>\n",
       "      <td>2.462675</td>\n",
       "      <td>-2.851395</td>\n",
       "      <td>2.324480</td>\n",
       "      <td>-1.372245</td>\n",
       "      <td>-0.948196</td>\n",
       "      <td>-3.065234</td>\n",
       "      <td>1.166927</td>\n",
       "      <td>-2.268771</td>\n",
       "      <td>-4.881143</td>\n",
       "      <td>2.255147</td>\n",
       "      <td>-4.686387</td>\n",
       "      <td>0.652375</td>\n",
       "      <td>-6.174288</td>\n",
       "      <td>0.594380</td>\n",
       "      <td>-4.849692</td>\n",
       "      <td>-6.536521</td>\n",
       "      <td>-3.119094</td>\n",
       "      <td>1.715494</td>\n",
       "      <td>0.560478</td>\n",
       "      <td>0.652941</td>\n",
       "      <td>0.081931</td>\n",
       "      <td>-0.221348</td>\n",
       "      <td>-0.523582</td>\n",
       "      <td>0.224228</td>\n",
       "      <td>0.756335</td>\n",
       "      <td>0.632800</td>\n",
       "      <td>0.250187</td>\n",
       "      <td>0.01</td>\n",
       "    </tr>\n",
       "    <tr>\n",
       "      <th>267</th>\n",
       "      <td>97.0</td>\n",
       "      <td>1.273818</td>\n",
       "      <td>0.058009</td>\n",
       "      <td>-1.312428</td>\n",
       "      <td>-0.048969</td>\n",
       "      <td>2.244373</td>\n",
       "      <td>3.296211</td>\n",
       "      <td>-0.342625</td>\n",
       "      <td>0.760870</td>\n",
       "      <td>-0.154915</td>\n",
       "      <td>0.068385</td>\n",
       "      <td>-0.161824</td>\n",
       "      <td>0.029225</td>\n",
       "      <td>-0.020632</td>\n",
       "      <td>0.528189</td>\n",
       "      <td>1.105977</td>\n",
       "      <td>0.375592</td>\n",
       "      <td>-0.926725</td>\n",
       "      <td>0.292544</td>\n",
       "      <td>-0.002887</td>\n",
       "      <td>0.008906</td>\n",
       "      <td>-0.017292</td>\n",
       "      <td>-0.182883</td>\n",
       "      <td>-0.146981</td>\n",
       "      <td>1.004700</td>\n",
       "      <td>0.842883</td>\n",
       "      <td>-0.314281</td>\n",
       "      <td>0.013744</td>\n",
       "      <td>0.015907</td>\n",
       "      <td>17.80</td>\n",
       "    </tr>\n",
       "    <tr>\n",
       "      <th>60</th>\n",
       "      <td>113616.0</td>\n",
       "      <td>2.116138</td>\n",
       "      <td>0.148913</td>\n",
       "      <td>-1.951318</td>\n",
       "      <td>0.276762</td>\n",
       "      <td>0.715665</td>\n",
       "      <td>-0.536759</td>\n",
       "      <td>0.181033</td>\n",
       "      <td>-0.204774</td>\n",
       "      <td>0.518076</td>\n",
       "      <td>-0.380792</td>\n",
       "      <td>-1.082825</td>\n",
       "      <td>0.008552</td>\n",
       "      <td>0.279728</td>\n",
       "      <td>-0.902143</td>\n",
       "      <td>0.236776</td>\n",
       "      <td>0.485377</td>\n",
       "      <td>0.250161</td>\n",
       "      <td>-0.126420</td>\n",
       "      <td>0.276953</td>\n",
       "      <td>-0.128463</td>\n",
       "      <td>-0.402284</td>\n",
       "      <td>-1.045790</td>\n",
       "      <td>0.264229</td>\n",
       "      <td>-0.059340</td>\n",
       "      <td>-0.174885</td>\n",
       "      <td>0.208246</td>\n",
       "      <td>-0.062853</td>\n",
       "      <td>-0.036178</td>\n",
       "      <td>2.28</td>\n",
       "    </tr>\n",
       "    <tr>\n",
       "      <th>320</th>\n",
       "      <td>167026.0</td>\n",
       "      <td>1.984022</td>\n",
       "      <td>0.430169</td>\n",
       "      <td>-2.301922</td>\n",
       "      <td>1.381182</td>\n",
       "      <td>0.979319</td>\n",
       "      <td>-0.677583</td>\n",
       "      <td>0.520665</td>\n",
       "      <td>-0.148441</td>\n",
       "      <td>-0.028691</td>\n",
       "      <td>-0.171518</td>\n",
       "      <td>1.063577</td>\n",
       "      <td>0.332144</td>\n",
       "      <td>-1.096824</td>\n",
       "      <td>-0.653474</td>\n",
       "      <td>-0.948880</td>\n",
       "      <td>-0.008735</td>\n",
       "      <td>0.806757</td>\n",
       "      <td>0.603900</td>\n",
       "      <td>-0.151054</td>\n",
       "      <td>-0.262399</td>\n",
       "      <td>0.006944</td>\n",
       "      <td>0.156618</td>\n",
       "      <td>0.010011</td>\n",
       "      <td>0.561471</td>\n",
       "      <td>0.421488</td>\n",
       "      <td>-0.539657</td>\n",
       "      <td>-0.009613</td>\n",
       "      <td>-0.033510</td>\n",
       "      <td>7.63</td>\n",
       "    </tr>\n",
       "  </tbody>\n",
       "</table>\n",
       "</div>"
      ],
      "text/plain": [
       "         Time        V1        V2        V3        V4        V5        V6  \\\n",
       "775   88672.0 -3.859881  2.632881 -5.264265  3.446113 -0.675231 -1.904959   \n",
       "680   57007.0 -1.271244  2.462675 -2.851395  2.324480 -1.372245 -0.948196   \n",
       "267      97.0  1.273818  0.058009 -1.312428 -0.048969  2.244373  3.296211   \n",
       "60   113616.0  2.116138  0.148913 -1.951318  0.276762  0.715665 -0.536759   \n",
       "320  167026.0  1.984022  0.430169 -2.301922  1.381182  0.979319 -0.677583   \n",
       "\n",
       "           V7        V8        V9       V10       V11       V12       V13  \\\n",
       "775 -3.291041 -0.985766 -1.168114 -3.936294  4.256564 -6.600654  0.005626   \n",
       "680 -3.065234  1.166927 -2.268771 -4.881143  2.255147 -4.686387  0.652375   \n",
       "267 -0.342625  0.760870 -0.154915  0.068385 -0.161824  0.029225 -0.020632   \n",
       "60   0.181033 -0.204774  0.518076 -0.380792 -1.082825  0.008552  0.279728   \n",
       "320  0.520665 -0.148441 -0.028691 -0.171518  1.063577  0.332144 -1.096824   \n",
       "\n",
       "          V14       V15       V16       V17       V18       V19       V20  \\\n",
       "775 -9.958531  2.471358 -5.700141 -6.388093 -1.838159  2.993174 -0.178626   \n",
       "680 -6.174288  0.594380 -4.849692 -6.536521 -3.119094  1.715494  0.560478   \n",
       "267  0.528189  1.105977  0.375592 -0.926725  0.292544 -0.002887  0.008906   \n",
       "60  -0.902143  0.236776  0.485377  0.250161 -0.126420  0.276953 -0.128463   \n",
       "320 -0.653474 -0.948880 -0.008735  0.806757  0.603900 -0.151054 -0.262399   \n",
       "\n",
       "          V21       V22       V23       V24       V25       V26       V27  \\\n",
       "775  1.664119  0.785075  0.068412  0.778961 -0.863166 -0.006810 -1.065734   \n",
       "680  0.652941  0.081931 -0.221348 -0.523582  0.224228  0.756335  0.632800   \n",
       "267 -0.017292 -0.182883 -0.146981  1.004700  0.842883 -0.314281  0.013744   \n",
       "60  -0.402284 -1.045790  0.264229 -0.059340 -0.174885  0.208246 -0.062853   \n",
       "320  0.006944  0.156618  0.010011  0.561471  0.421488 -0.539657 -0.009613   \n",
       "\n",
       "          V28  Amount  \n",
       "775  1.773326    1.18  \n",
       "680  0.250187    0.01  \n",
       "267  0.015907   17.80  \n",
       "60  -0.036178    2.28  \n",
       "320 -0.033510    7.63  "
      ]
     },
     "execution_count": 69,
     "metadata": {},
     "output_type": "execute_result"
    }
   ],
   "source": [
    "X_under_sampled.sample(5)"
   ]
  },
  {
   "cell_type": "code",
   "execution_count": 70,
   "metadata": {},
   "outputs": [
    {
     "data": {
      "text/plain": [
       "984"
      ]
     },
     "execution_count": 70,
     "metadata": {},
     "output_type": "execute_result"
    }
   ],
   "source": [
    "len(X_under_sampled)"
   ]
  },
  {
   "cell_type": "code",
   "execution_count": 71,
   "metadata": {},
   "outputs": [
    {
     "data": {
      "image/png": "[encoded data removed]",
      "text/plain": [
       "<Figure size 432x288 with 1 Axes>"
      ]
     },
     "metadata": {
      "needs_background": "light"
     },
     "output_type": "display_data"
    }
   ],
   "source": [
    "sns.countplot('Class', data= y_under_sampled)\n",
    "plt.title('Distribution des classes après sous-échantillonage', fontsize=14)\n",
    "plt.show()"
   ]
  },
  {
   "cell_type": "code",
   "execution_count": 72,
   "metadata": {},
   "outputs": [],
   "source": [
    "X_train2, X_test2, y_train2, y_test2 = train_test_split(X_under_sampled, y_under_sampled, test_size=0.2, random_state=0)"
   ]
  },
  {
   "cell_type": "code",
   "execution_count": 73,
   "metadata": {},
   "outputs": [
    {
     "data": {
      "text/plain": [
       "(787, 30)"
      ]
     },
     "execution_count": 73,
     "metadata": {},
     "output_type": "execute_result"
    }
   ],
   "source": [
    "X_train2.shape"
   ]
  },
  {
   "cell_type": "code",
   "execution_count": 74,
   "metadata": {},
   "outputs": [
    {
     "data": {
      "text/plain": [
       "(197, 30)"
      ]
     },
     "execution_count": 74,
     "metadata": {},
     "output_type": "execute_result"
    }
   ],
   "source": [
    "X_test2.shape"
   ]
  },
  {
   "cell_type": "markdown",
   "metadata": {},
   "source": [
    "#### A la recherche des meilleures paramètres du classifieur"
   ]
  },
  {
   "cell_type": "code",
   "execution_count": 75,
   "metadata": {},
   "outputs": [],
   "source": [
    "n_estimators = np.arange(10,100,1)\n",
    "\n",
    "max_depth = np.arange(1,10,2)\n",
    "np.append(max_depth,None)\n",
    "\n",
    "min_samples_split = np.arange(1,10,2) \n",
    "np.append(min_samples_split, None)\n",
    "\n",
    "min_samples_leaf = np.arange(1,10,2) \n",
    "np.append(min_samples_leaf, None)\n",
    "\n",
    "bootstrap = [True, False]\n",
    "criterion = ['gini', 'entropy']\n",
    "\n",
    "clf2 = RandomForestClassifier()\n",
    "\n",
    "hyperP = dict(n_estimators=n_estimators, max_depth=max_depth, min_samples_split=min_samples_split, min_samples_leaf=min_samples_leaf, bootstrap=bootstrap,criterion=criterion)\n",
    "\n",
    "grid2 = GridSearchCV(clf2, hyperP, verbose=1, n_jobs=-1, scoring=\"recall\") #cv=3"
   ]
  },
  {
   "cell_type": "markdown",
   "metadata": {},
   "source": [
    "bestP2 = grid2.fit(X_train2, y_train2.values.ravel())"
   ]
  },
  {
   "cell_type": "markdown",
   "metadata": {},
   "source": [
    "Après 225000 combinaison différentes d'hyper paramètres et 72.0min sur un cluster Hadoop voici le modèle Random Forest le plus performant c'est-à-dire avec le recall score le plus bas"
   ]
  },
  {
   "cell_type": "markdown",
   "metadata": {},
   "source": [
    "best_clf2 = grid2.best_estimator_\n",
    "print('Les paramètres du meilleur estimateurs obtenue :\\n', best_clf2)"
   ]
  },
  {
   "cell_type": "code",
   "execution_count": 88,
   "metadata": {},
   "outputs": [],
   "source": [
    "##Best CLF2 recall score copie pour ne pas relancer le GridSearch\n",
    "\n",
    "best_clf2 =  RandomForestClassifier(bootstrap=False, ccp_alpha=0.0, class_weight=None,\n",
    "                       criterion='entropy', max_depth=9, max_features='auto',\n",
    "                       max_leaf_nodes=None, max_samples=None,\n",
    "                       min_impurity_decrease=0.0, min_impurity_split=None,\n",
    "                       min_samples_leaf=3, min_samples_split=5,\n",
    "                       min_weight_fraction_leaf=0.0, n_estimators=10,\n",
    "                       n_jobs=None, oob_score=False, random_state=None,\n",
    "                       verbose=0, warm_start=False)\n"
   ]
  },
  {
   "cell_type": "code",
   "execution_count": 92,
   "metadata": {},
   "outputs": [
    {
     "name": "stdout",
     "output_type": "stream",
     "text": [
      "Score moyen en utilisant la cross-validation du meilleure estimateur: 0.9223110223110222\n"
     ]
    }
   ],
   "source": [
    "print('Score moyen en utilisant la cross-validation du meilleure estimateur:',grid2.best_score_ )"
   ]
  },
  {
   "cell_type": "code",
   "execution_count": 95,
   "metadata": {},
   "outputs": [
    {
     "name": "stdout",
     "output_type": "stream",
     "text": [
      "[0.94303797 0.93670886 0.91082803 0.94904459 0.93630573]\n"
     ]
    }
   ],
   "source": [
    "best_clf2.fit(X_train2, y_train2.values.ravel())\n",
    "training_score = cross_val_score(best_clf2, X_train2, y_train2.values.ravel(), cv=5)\n",
    "print(training_score)"
   ]
  },
  {
   "cell_type": "code",
   "execution_count": 96,
   "metadata": {
    "scrolled": true
   },
   "outputs": [
    {
     "name": "stdout",
     "output_type": "stream",
     "text": [
      "Score obtenue sur nos données test (sous-échantilloné):  0.9390862944162437\n",
      "Taux d'erreur : 0.060913705583756306\n",
      "Recall score obtenue sur nos données test:  0.8962264150943396\n",
      "miss-rate :  0.10377358490566035\n"
     ]
    }
   ],
   "source": [
    "predicted2 = best_clf2.predict(X_test2)\n",
    "score2 = accuracy_score(y_test2, predicted2)\n",
    "recall_score2 = recall_score(y_test2, predicted2)\n",
    "f1_score2 = f1_score(y_test2, predicted2)\n",
    "print('Score obtenue sur nos données test (sous-échantilloné): ', score2)\n",
    "print(\"Taux d'erreur :\", 1-score2)\n",
    "print('Recall score obtenue sur nos données test: ', recall_score2)\n",
    "print(\"miss-rate : \", 1-recall_score2)"
   ]
  },
  {
   "cell_type": "markdown",
   "metadata": {},
   "source": [
    "#### Appliquons maintenant notre classifieur entrainer sur les données sous-échnatilloné avec les données test d'origine"
   ]
  },
  {
   "cell_type": "code",
   "execution_count": 101,
   "metadata": {
    "scrolled": true
   },
   "outputs": [
    {
     "name": "stdout",
     "output_type": "stream",
     "text": [
      "Accuracy:  0.9699097644043397\n",
      "Taux d'erreur : 0.030090235595660264\n",
      "Recall score :  0.9603960396039604\n",
      "miss-rate : 0.03960396039603964\n"
     ]
    }
   ],
   "source": [
    "predicted3 = best_clf2.predict(X_test1)\n",
    "score3 = accuracy_score(y_test1, predicted3)\n",
    "recall_score3 = recall_score(y_test1, predicted3)\n",
    "print('Accuracy: ', score3)\n",
    "print(\"Taux d'erreur :\", 1-score3)\n",
    "print('Recall score : ', recall_score3)\n",
    "print(\"miss-rate :\",1-recall_score3)\n"
   ]
  },
  {
   "cell_type": "code",
   "execution_count": 102,
   "metadata": {},
   "outputs": [
    {
     "name": "stdout",
     "output_type": "stream",
     "text": [
      "i_min : 0 , recall_min : 0.9207920792079208 miss-rate max:  0.07920792079207917\n",
      "i_max : 2 , recall_max : 0.9801980198019802 miss-rate min : 0.01980198019801982\n"
     ]
    }
   ],
   "source": [
    "min_max_classifieur(best_clf2,10,X_test1,y_test1)"
   ]
  },
  {
   "cell_type": "code",
   "execution_count": 104,
   "metadata": {
    "scrolled": true
   },
   "outputs": [
    {
     "name": "stdout",
     "output_type": "stream",
     "text": [
      "Recall score :  0.9207920792079208\n",
      "miss-rate : 0.07920792079207917\n"
     ]
    }
   ],
   "source": [
    "estimator_min = best_clf2.estimators_[0]\n",
    "predicted_min=estimator_min.predict(X_test1)\n",
    "recall_score_min=recall_score(y_test1,predicted_min)\n",
    "print('Recall score : ', recall_score_min)\n",
    "print(\"miss-rate :\",1-recall_score_min)"
   ]
  },
  {
   "cell_type": "code",
   "execution_count": 105,
   "metadata": {},
   "outputs": [
    {
     "name": "stdout",
     "output_type": "stream",
     "text": [
      "Recall score :  0.9801980198019802\n",
      "miss-rate : 0.01980198019801982\n"
     ]
    }
   ],
   "source": [
    "estimator_max = best_clf2.estimators_[2]\n",
    "predicted_max=estimator_max.predict(X_test1)\n",
    "recall_score_max=recall_score(y_test1,predicted_max)\n",
    "print('Recall score : ', recall_score_max)\n",
    "print(\"miss-rate :\",1-recall_score_max)"
   ]
  },
  {
   "cell_type": "code",
   "execution_count": 106,
   "metadata": {},
   "outputs": [
    {
     "data": {
      "image/png": "[encoded data removed]",
      "text/plain": [
       "<Figure size 1080x720 with 2 Axes>"
      ]
     },
     "metadata": {
      "needs_background": "light"
     },
     "output_type": "display_data"
    }
   ],
   "source": [
    "conf_mat = confusion_matrix(y_test1, predicted3)\n",
    "labels = ['0','1']\n",
    "fig,ax = plt.subplots(figsize=(15,10))\n",
    "sns.heatmap(conf_mat, annot=True, cmap=\"Set3\", fmt=\"d\", xticklabels = labels, yticklabels = labels)\n",
    "plt.ylabel('Vraie valeur')\n",
    "plt.xlabel('Predite')\n",
    "plt.title('Matrice de confusion')\n",
    "plt.show()"
   ]
  },
  {
   "cell_type": "code",
   "execution_count": 107,
   "metadata": {},
   "outputs": [
    {
     "name": "stdout",
     "output_type": "stream",
     "text": [
      "              precision    recall  f1-score   support\n",
      "\n",
      "           0       1.00      0.97      0.98     56861\n",
      "           1       0.05      0.96      0.10       101\n",
      "\n",
      "    accuracy                           0.97     56962\n",
      "   macro avg       0.53      0.97      0.54     56962\n",
      "weighted avg       1.00      0.97      0.98     56962\n",
      "\n"
     ]
    }
   ],
   "source": [
    "print(classification_report(y_test1, predicted3))"
   ]
  },
  {
   "cell_type": "markdown",
   "metadata": {},
   "source": [
    "Meilleure score que sur les données sous échantilloné et testé sur un sous echantillon aussi"
   ]
  },
  {
   "cell_type": "code",
   "execution_count": 114,
   "metadata": {},
   "outputs": [],
   "source": [
    "estimator_min = best_clf2.estimators_[0]\n",
    "\n",
    "export_graphviz(estimator_min, out_file='tree_min.dot', \n",
    "                feature_names = X_train1.columns,\n",
    "                class_names = ['0','1'],\n",
    "                rounded = True, proportion = True, \n",
    "                precision = 2, filled = True)\n",
    "\n",
    "#call(['dot', '-Tpng', 'tree.dot', '-o', 'tree.png', '-Gdpi=60'])\n",
    "#Image(filename = 'tree.png')"
   ]
  },
  {
   "cell_type": "code",
   "execution_count": 115,
   "metadata": {},
   "outputs": [],
   "source": [
    "estimator_max = best_clf2.estimators_[2]\n",
    "\n",
    "export_graphviz(estimator_max, out_file='tree_max.dot', \n",
    "                feature_names = X_train1.columns,\n",
    "                class_names = ['0','1'],\n",
    "                rounded = True, proportion = True, \n",
    "                precision = 2, filled = True)\n",
    "\n",
    "#call(['dot', '-Tpng', 'tree.dot', '-o', 'tree.png', '-Gdpi=60'])\n",
    "#Image(filename = 'tree.png')"
   ]
  },
  {
   "cell_type": "code",
   "execution_count": 116,
   "metadata": {},
   "outputs": [
    {
     "name": "stdout",
     "output_type": "stream",
     "text": [
      "Estimator n° : 0 ,accuracy score : 0.9401004178224079 , recall sore :  0.9207920792079208 , taux-d'erreur :  0.05989958217759206 , miss-rate 0.07920792079207917 \n",
      "\n",
      "Estimator n° : 1 ,accuracy score : 0.9181208524981567 , recall sore :  0.9603960396039604 , taux-d'erreur :  0.08187914750184333 , miss-rate 0.03960396039603964 \n",
      "\n",
      "Estimator n° : 2 ,accuracy score : 0.9138021839120818 , recall sore :  0.9801980198019802 , taux-d'erreur :  0.08619781608791821 , miss-rate 0.01980198019801982 \n",
      "\n",
      "Estimator n° : 3 ,accuracy score : 0.9336575260700116 , recall sore :  0.9405940594059405 , taux-d'erreur :  0.06634247392998838 , miss-rate 0.05940594059405946 \n",
      "\n",
      "Estimator n° : 4 ,accuracy score : 0.9038657350514377 , recall sore :  0.9702970297029703 , taux-d'erreur :  0.09613426494856225 , miss-rate 0.02970297029702973 \n",
      "\n",
      "Estimator n° : 5 ,accuracy score : 0.9294617464274428 , recall sore :  0.9306930693069307 , taux-d'erreur :  0.07053825357255716 , miss-rate 0.06930693069306926 \n",
      "\n",
      "Estimator n° : 6 ,accuracy score : 0.9243881886169727 , recall sore :  0.9306930693069307 , taux-d'erreur :  0.0756118113830273 , miss-rate 0.06930693069306926 \n",
      "\n",
      "Estimator n° : 7 ,accuracy score : 0.9159439626417611 , recall sore :  0.9306930693069307 , taux-d'erreur :  0.08405603735823886 , miss-rate 0.06930693069306926 \n",
      "\n",
      "Estimator n° : 8 ,accuracy score : 0.8914715073206699 , recall sore :  0.9207920792079208 , taux-d'erreur :  0.10852849267933007 , miss-rate 0.07920792079207917 \n",
      "\n",
      "Estimator n° : 9 ,accuracy score : 0.87651416733963 , recall sore :  0.9702970297029703 , taux-d'erreur :  0.12348583266037005 , miss-rate 0.02970297029702973 \n",
      "\n"
     ]
    }
   ],
   "source": [
    "for i in range(0,10):\n",
    "    clf=best_clf2.estimators_[i]\n",
    "    predicted=clf.predict(X_test1)\n",
    "    score=accuracy_score(y_test1,predicted)\n",
    "    re_score=recall_score(y_test1,predicted)\n",
    "    print(\"Estimator n° :\",i,\",accuracy score :\",score,\", recall sore : \",re_score,\", taux-d'erreur : \",1-score,\", miss-rate\",1-re_score,\"\\n\" )"
   ]
  },
  {
   "cell_type": "code",
   "execution_count": 118,
   "metadata": {},
   "outputs": [],
   "source": [
    "moy = (0.07920792079207917+0.01980198019801982)/2"
   ]
  },
  {
   "cell_type": "code",
   "execution_count": 119,
   "metadata": {},
   "outputs": [],
   "source": [
    "diff = moy - 0.01980198019801982 "
   ]
  },
  {
   "cell_type": "code",
   "execution_count": 120,
   "metadata": {},
   "outputs": [
    {
     "data": {
      "text/plain": [
       "0.029702970297029674"
      ]
     },
     "execution_count": 120,
     "metadata": {},
     "output_type": "execute_result"
    }
   ],
   "source": [
    "diff"
   ]
  },
  {
   "cell_type": "markdown",
   "metadata": {},
   "source": [
    "### La fonction suivante vient de : https://stackoverflow.com/questions/20224526/how-to-extract-the-decision-rules-from-scikit-learn-decision-tree\n",
    "Modifié afin de convenir à l'énoncé"
   ]
  },
  {
   "cell_type": "code",
   "execution_count": 227,
   "metadata": {},
   "outputs": [],
   "source": [
    "from sklearn.tree import _tree\n",
    "\n",
    "def tree_to_code(tree, feature_names):\n",
    "    tree_ = tree.tree_\n",
    "    feature_name = [\n",
    "        feature_names[i] if i != _tree.TREE_UNDEFINED else \"undefined!\"\n",
    "        for i in tree_.feature\n",
    "    ]\n",
    "    pathto=dict()\n",
    "\n",
    "    global k\n",
    "    k = 0\n",
    "    def recurse(node, depth, parent):\n",
    "        global k\n",
    "        indent = \"  \" * depth\n",
    "\n",
    "        if tree_.feature[node] != _tree.TREE_UNDEFINED:\n",
    "            name = feature_name[node]\n",
    "            threshold = tree_.threshold[node]\n",
    "            s= \"{} <= {} \".format( name, threshold, node )\n",
    "            if node == 0:\n",
    "                pathto[node]=s\n",
    "            else:\n",
    "                pathto[node]=pathto[parent]+' & ' +s\n",
    "\n",
    "            recurse(tree_.children_left[node], depth + 1, node)\n",
    "            s=\"{} > {}\".format( name, threshold)\n",
    "            if node == 0:\n",
    "                pathto[node]=s\n",
    "            else:\n",
    "                pathto[node]=pathto[parent]+' & ' +s\n",
    "            recurse(tree_.children_right[node], depth + 1, node)\n",
    "        else:\n",
    "            k=k+1\n",
    "            print(k,')',pathto[parent],'-->', np.argmax(tree_.value[node]))\n",
    "    recurse(0, 1, 0)"
   ]
  },
  {
   "cell_type": "code",
   "execution_count": 230,
   "metadata": {},
   "outputs": [
    {
     "name": "stdout",
     "output_type": "stream",
     "text": [
      "1 ) V5 <= -1.8324214220046997  & V4 <= 0.71916264295578  & V2 <= -0.22304320521652699  --> 0\n",
      "2 ) V5 <= -1.8324214220046997  & V4 <= 0.71916264295578  & V2 > -0.22304320521652699 & V1 <= -2.5569714307785034  --> 0\n",
      "3 ) V5 <= -1.8324214220046997  & V4 <= 0.71916264295578  & V2 > -0.22304320521652699 & V1 > -2.5569714307785034 --> 1\n",
      "4 ) V5 <= -1.8324214220046997  & V4 > 0.71916264295578 --> 1\n",
      "5 ) V5 > -1.8324214220046997 & V3 <= -1.9829692840576172  & V16 <= -0.9037880599498749  & V11 <= 0.7448752820491791  & V10 <= 0.5007731094956398  --> 1\n",
      "6 ) V5 > -1.8324214220046997 & V3 <= -1.9829692840576172  & V16 <= -0.9037880599498749  & V11 <= 0.7448752820491791  & V10 > 0.5007731094956398 --> 0\n",
      "7 ) V5 > -1.8324214220046997 & V3 <= -1.9829692840576172  & V16 <= -0.9037880599498749  & V11 > 0.7448752820491791 --> 1\n",
      "8 ) V5 > -1.8324214220046997 & V3 <= -1.9829692840576172  & V16 > -0.9037880599498749 & V9 <= -1.7832927703857422  --> 1\n",
      "9 ) V5 > -1.8324214220046997 & V3 <= -1.9829692840576172  & V16 > -0.9037880599498749 & V9 > -1.7832927703857422 & V14 <= -0.9767935574054718  & V28 <= -0.021513632964342833  & V23 <= 0.0185927115380764  --> 0\n",
      "10 ) V5 > -1.8324214220046997 & V3 <= -1.9829692840576172  & V16 > -0.9037880599498749 & V9 > -1.7832927703857422 & V14 <= -0.9767935574054718  & V28 <= -0.021513632964342833  & V23 > 0.0185927115380764 --> 0\n",
      "11 ) V5 > -1.8324214220046997 & V3 <= -1.9829692840576172  & V16 > -0.9037880599498749 & V9 > -1.7832927703857422 & V14 <= -0.9767935574054718  & V28 > -0.021513632964342833 & V21 <= 0.057856480590999126  --> 1\n",
      "12 ) V5 > -1.8324214220046997 & V3 <= -1.9829692840576172  & V16 > -0.9037880599498749 & V9 > -1.7832927703857422 & V14 <= -0.9767935574054718  & V28 > -0.021513632964342833 & V21 > 0.057856480590999126 --> 0\n",
      "13 ) V5 > -1.8324214220046997 & V3 <= -1.9829692840576172  & V16 > -0.9037880599498749 & V9 > -1.7832927703857422 & V14 > -0.9767935574054718 --> 0\n",
      "14 ) V5 > -1.8324214220046997 & V3 > -1.9829692840576172 & V3 <= -0.2714601010084152  & V10 <= -1.8137637972831726  --> 1\n",
      "15 ) V5 > -1.8324214220046997 & V3 > -1.9829692840576172 & V3 <= -0.2714601010084152  & V10 > -1.8137637972831726 & Amount <= 0.004999999888241291  --> 1\n",
      "16 ) V5 > -1.8324214220046997 & V3 > -1.9829692840576172 & V3 <= -0.2714601010084152  & V10 > -1.8137637972831726 & Amount > 0.004999999888241291 & V5 <= 1.400096833705902  & V1 <= 1.8936256766319275  & V14 <= -1.228384554386139  & V14 <= -2.794279932975769  --> 1\n",
      "17 ) V5 > -1.8324214220046997 & V3 > -1.9829692840576172 & V3 <= -0.2714601010084152  & V10 > -1.8137637972831726 & Amount > 0.004999999888241291 & V5 <= 1.400096833705902  & V1 <= 1.8936256766319275  & V14 <= -1.228384554386139  & V14 > -2.794279932975769 --> 1\n",
      "18 ) V5 > -1.8324214220046997 & V3 > -1.9829692840576172 & V3 <= -0.2714601010084152  & V10 > -1.8137637972831726 & Amount > 0.004999999888241291 & V5 <= 1.400096833705902  & V1 <= 1.8936256766319275  & V14 > -1.228384554386139 & V12 <= -0.6709044575691223  --> 0\n",
      "19 ) V5 > -1.8324214220046997 & V3 > -1.9829692840576172 & V3 <= -0.2714601010084152  & V10 > -1.8137637972831726 & Amount > 0.004999999888241291 & V5 <= 1.400096833705902  & V1 <= 1.8936256766319275  & V14 > -1.228384554386139 & V12 > -0.6709044575691223 --> 0\n",
      "20 ) V5 > -1.8324214220046997 & V3 > -1.9829692840576172 & V3 <= -0.2714601010084152  & V10 > -1.8137637972831726 & Amount > 0.004999999888241291 & V5 <= 1.400096833705902  & V1 > 1.8936256766319275 & V20 <= 0.027299455367028713  --> 0\n",
      "21 ) V5 > -1.8324214220046997 & V3 > -1.9829692840576172 & V3 <= -0.2714601010084152  & V10 > -1.8137637972831726 & Amount > 0.004999999888241291 & V5 <= 1.400096833705902  & V1 > 1.8936256766319275 & V20 > 0.027299455367028713 --> 0\n",
      "22 ) V5 > -1.8324214220046997 & V3 > -1.9829692840576172 & V3 <= -0.2714601010084152  & V10 > -1.8137637972831726 & Amount > 0.004999999888241291 & V5 > 1.400096833705902 --> 0\n",
      "23 ) V5 > -1.8324214220046997 & V3 > -1.9829692840576172 & V3 > -0.2714601010084152 & V4 <= -0.014790731016546488  --> 0\n",
      "24 ) V5 > -1.8324214220046997 & V3 > -1.9829692840576172 & V3 > -0.2714601010084152 & V4 > -0.014790731016546488 & V23 <= 0.7019178569316864  & V21 <= -0.42017151415348053  & V1 <= -0.43449295312166214  --> 0\n",
      "25 ) V5 > -1.8324214220046997 & V3 > -1.9829692840576172 & V3 > -0.2714601010084152 & V4 > -0.014790731016546488 & V23 <= 0.7019178569316864  & V21 <= -0.42017151415348053  & V1 > -0.43449295312166214 --> 1\n",
      "26 ) V5 > -1.8324214220046997 & V3 > -1.9829692840576172 & V3 > -0.2714601010084152 & V4 > -0.014790731016546488 & V23 <= 0.7019178569316864  & V21 > -0.42017151415348053 & V19 <= -0.6536106169223785  & V2 <= 0.38578803837299347  & V12 <= -0.7504942566156387  --> 0\n",
      "27 ) V5 > -1.8324214220046997 & V3 > -1.9829692840576172 & V3 > -0.2714601010084152 & V4 > -0.014790731016546488 & V23 <= 0.7019178569316864  & V21 > -0.42017151415348053 & V19 <= -0.6536106169223785  & V2 <= 0.38578803837299347  & V12 > -0.7504942566156387 --> 0\n",
      "28 ) V5 > -1.8324214220046997 & V3 > -1.9829692840576172 & V3 > -0.2714601010084152 & V4 > -0.014790731016546488 & V23 <= 0.7019178569316864  & V21 > -0.42017151415348053 & V19 <= -0.6536106169223785  & V2 > 0.38578803837299347 & V7 <= 0.32253552973270416  --> 1\n",
      "29 ) V5 > -1.8324214220046997 & V3 > -1.9829692840576172 & V3 > -0.2714601010084152 & V4 > -0.014790731016546488 & V23 <= 0.7019178569316864  & V21 > -0.42017151415348053 & V19 <= -0.6536106169223785  & V2 > 0.38578803837299347 & V7 > 0.32253552973270416 --> 0\n",
      "30 ) V5 > -1.8324214220046997 & V3 > -1.9829692840576172 & V3 > -0.2714601010084152 & V4 > -0.014790731016546488 & V23 <= 0.7019178569316864  & V21 > -0.42017151415348053 & V19 > -0.6536106169223785 & V21 <= 0.3207271695137024  & V4 <= 0.03096426511183381  --> 0\n",
      "31 ) V5 > -1.8324214220046997 & V3 > -1.9829692840576172 & V3 > -0.2714601010084152 & V4 > -0.014790731016546488 & V23 <= 0.7019178569316864  & V21 > -0.42017151415348053 & V19 > -0.6536106169223785 & V21 <= 0.3207271695137024  & V4 > 0.03096426511183381 --> 0\n",
      "32 ) V5 > -1.8324214220046997 & V3 > -1.9829692840576172 & V3 > -0.2714601010084152 & V4 > -0.014790731016546488 & V23 <= 0.7019178569316864  & V21 > -0.42017151415348053 & V19 > -0.6536106169223785 & V21 > 0.3207271695137024 & V10 <= -0.12727566063404083  --> 0\n",
      "33 ) V5 > -1.8324214220046997 & V3 > -1.9829692840576172 & V3 > -0.2714601010084152 & V4 > -0.014790731016546488 & V23 <= 0.7019178569316864  & V21 > -0.42017151415348053 & V19 > -0.6536106169223785 & V21 > 0.3207271695137024 & V10 > -0.12727566063404083 --> 0\n",
      "34 ) V5 > -1.8324214220046997 & V3 > -1.9829692840576172 & V3 > -0.2714601010084152 & V4 > -0.014790731016546488 & V23 > 0.7019178569316864 & V7 <= 0.4702508747577667  --> 0\n",
      "35 ) V5 > -1.8324214220046997 & V3 > -1.9829692840576172 & V3 > -0.2714601010084152 & V4 > -0.014790731016546488 & V23 > 0.7019178569316864 & V7 > 0.4702508747577667 --> 1\n"
     ]
    }
   ],
   "source": [
    "tree_to_code(best_clf2.estimators_[0], ['Time', 'V1', 'V2', 'V3', 'V4', 'V5', 'V6', 'V7', 'V8', 'V9', 'V10',\n",
    "       'V11', 'V12', 'V13', 'V14', 'V15', 'V16', 'V17', 'V18', 'V19', 'V20',\n",
    "       'V21', 'V22', 'V23', 'V24', 'V25', 'V26', 'V27', 'V28', 'Amount'])"
   ]
  },
  {
   "cell_type": "code",
   "execution_count": 231,
   "metadata": {},
   "outputs": [
    {
     "name": "stdout",
     "output_type": "stream",
     "text": [
      "1 ) V12 <= -2.2581019401550293  & V14 <= -0.10925865545868874  --> 1\n",
      "2 ) V12 <= -2.2581019401550293  & V14 > -0.10925865545868874 & V3 <= -0.5150710493326187  --> 1\n",
      "3 ) V12 <= -2.2581019401550293  & V14 > -0.10925865545868874 & V3 > -0.5150710493326187 & V20 <= -0.04878407157957554  --> 0\n",
      "4 ) V12 <= -2.2581019401550293  & V14 > -0.10925865545868874 & V3 > -0.5150710493326187 & V20 > -0.04878407157957554 --> 0\n",
      "5 ) V12 > -2.2581019401550293 & V11 <= 1.8204920291900635  & V4 <= 1.6555220484733582  & V8 <= 0.27470847964286804  & V4 <= -0.47919346392154694  & V23 <= 0.06764522567391396  --> 0\n",
      "6 ) V12 > -2.2581019401550293 & V11 <= 1.8204920291900635  & V4 <= 1.6555220484733582  & V8 <= 0.27470847964286804  & V4 <= -0.47919346392154694  & V23 > 0.06764522567391396 & V22 <= 0.32876746356487274  --> 0\n",
      "7 ) V12 > -2.2581019401550293 & V11 <= 1.8204920291900635  & V4 <= 1.6555220484733582  & V8 <= 0.27470847964286804  & V4 <= -0.47919346392154694  & V23 > 0.06764522567391396 & V22 > 0.32876746356487274 & V19 <= 0.3670346140861511  --> 0\n",
      "8 ) V12 > -2.2581019401550293 & V11 <= 1.8204920291900635  & V4 <= 1.6555220484733582  & V8 <= 0.27470847964286804  & V4 <= -0.47919346392154694  & V23 > 0.06764522567391396 & V22 > 0.32876746356487274 & V19 > 0.3670346140861511 --> 1\n",
      "9 ) V12 > -2.2581019401550293 & V11 <= 1.8204920291900635  & V4 <= 1.6555220484733582  & V8 <= 0.27470847964286804  & V4 > -0.47919346392154694 & V10 <= -0.6758795380592346  & V27 <= 0.021584663540124893  & V25 <= -0.13678133487701416  & V19 <= -0.06074780039489269  --> 0\n",
      "10 ) V12 > -2.2581019401550293 & V11 <= 1.8204920291900635  & V4 <= 1.6555220484733582  & V8 <= 0.27470847964286804  & V4 > -0.47919346392154694 & V10 <= -0.6758795380592346  & V27 <= 0.021584663540124893  & V25 <= -0.13678133487701416  & V19 > -0.06074780039489269 --> 1\n",
      "11 ) V12 > -2.2581019401550293 & V11 <= 1.8204920291900635  & V4 <= 1.6555220484733582  & V8 <= 0.27470847964286804  & V4 > -0.47919346392154694 & V10 <= -0.6758795380592346  & V27 <= 0.021584663540124893  & V25 > -0.13678133487701416 & V2 <= 0.3791721537709236  --> 1\n",
      "12 ) V12 > -2.2581019401550293 & V11 <= 1.8204920291900635  & V4 <= 1.6555220484733582  & V8 <= 0.27470847964286804  & V4 > -0.47919346392154694 & V10 <= -0.6758795380592346  & V27 <= 0.021584663540124893  & V25 > -0.13678133487701416 & V2 > 0.3791721537709236 --> 1\n",
      "13 ) V12 > -2.2581019401550293 & V11 <= 1.8204920291900635  & V4 <= 1.6555220484733582  & V8 <= 0.27470847964286804  & V4 > -0.47919346392154694 & V10 <= -0.6758795380592346  & V27 > 0.021584663540124893 & V26 <= -0.44586317241191864  --> 0\n",
      "14 ) V12 > -2.2581019401550293 & V11 <= 1.8204920291900635  & V4 <= 1.6555220484733582  & V8 <= 0.27470847964286804  & V4 > -0.47919346392154694 & V10 <= -0.6758795380592346  & V27 > 0.021584663540124893 & V26 > -0.44586317241191864 --> 0\n",
      "15 ) V12 > -2.2581019401550293 & V11 <= 1.8204920291900635  & V4 <= 1.6555220484733582  & V8 <= 0.27470847964286804  & V4 > -0.47919346392154694 & V10 > -0.6758795380592346 & V20 <= -0.4947354197502136  & V28 <= -0.02127696154639125  --> 0\n",
      "16 ) V12 > -2.2581019401550293 & V11 <= 1.8204920291900635  & V4 <= 1.6555220484733582  & V8 <= 0.27470847964286804  & V4 > -0.47919346392154694 & V10 > -0.6758795380592346 & V20 <= -0.4947354197502136  & V28 > -0.02127696154639125 --> 1\n",
      "17 ) V12 > -2.2581019401550293 & V11 <= 1.8204920291900635  & V4 <= 1.6555220484733582  & V8 <= 0.27470847964286804  & V4 > -0.47919346392154694 & V10 > -0.6758795380592346 & V20 > -0.4947354197502136 & V6 <= 0.6458913087844849  & V20 <= -0.03057482559233904  --> 0\n",
      "18 ) V12 > -2.2581019401550293 & V11 <= 1.8204920291900635  & V4 <= 1.6555220484733582  & V8 <= 0.27470847964286804  & V4 > -0.47919346392154694 & V10 > -0.6758795380592346 & V20 > -0.4947354197502136 & V6 <= 0.6458913087844849  & V20 > -0.03057482559233904 --> 0\n",
      "19 ) V12 > -2.2581019401550293 & V11 <= 1.8204920291900635  & V4 <= 1.6555220484733582  & V8 <= 0.27470847964286804  & V4 > -0.47919346392154694 & V10 > -0.6758795380592346 & V20 > -0.4947354197502136 & V6 > 0.6458913087844849 & V8 <= 0.08525464311242104  --> 1\n",
      "20 ) V12 > -2.2581019401550293 & V11 <= 1.8204920291900635  & V4 <= 1.6555220484733582  & V8 <= 0.27470847964286804  & V4 > -0.47919346392154694 & V10 > -0.6758795380592346 & V20 > -0.4947354197502136 & V6 > 0.6458913087844849 & V8 > 0.08525464311242104 --> 0\n",
      "21 ) V12 > -2.2581019401550293 & V11 <= 1.8204920291900635  & V4 <= 1.6555220484733582  & V8 > 0.27470847964286804 --> 0\n",
      "22 ) V12 > -2.2581019401550293 & V11 <= 1.8204920291900635  & V4 > 1.6555220484733582 & V6 <= -0.4584597796201706  & V6 <= -1.3770538568496704  --> 1\n",
      "23 ) V12 > -2.2581019401550293 & V11 <= 1.8204920291900635  & V4 > 1.6555220484733582 & V6 <= -0.4584597796201706  & V6 > -1.3770538568496704 --> 1\n",
      "24 ) V12 > -2.2581019401550293 & V11 <= 1.8204920291900635  & V4 > 1.6555220484733582 & V6 > -0.4584597796201706 & V17 <= 1.395189642906189  & V3 <= 0.9425800442695618  & V15 <= -1.4877775311470032  & V2 <= 0.6318705677986145  --> 1\n",
      "25 ) V12 > -2.2581019401550293 & V11 <= 1.8204920291900635  & V4 > 1.6555220484733582 & V6 > -0.4584597796201706 & V17 <= 1.395189642906189  & V3 <= 0.9425800442695618  & V15 <= -1.4877775311470032  & V2 > 0.6318705677986145 --> 1\n",
      "26 ) V12 > -2.2581019401550293 & V11 <= 1.8204920291900635  & V4 > 1.6555220484733582 & V6 > -0.4584597796201706 & V17 <= 1.395189642906189  & V3 <= 0.9425800442695618  & V15 > -1.4877775311470032 & V14 <= 0.041932493448257446  --> 1\n",
      "27 ) V12 > -2.2581019401550293 & V11 <= 1.8204920291900635  & V4 > 1.6555220484733582 & V6 > -0.4584597796201706 & V17 <= 1.395189642906189  & V3 <= 0.9425800442695618  & V15 > -1.4877775311470032 & V14 > 0.041932493448257446 & V3 <= 0.4683341532945633  --> 0\n",
      "28 ) V12 > -2.2581019401550293 & V11 <= 1.8204920291900635  & V4 > 1.6555220484733582 & V6 > -0.4584597796201706 & V17 <= 1.395189642906189  & V3 <= 0.9425800442695618  & V15 > -1.4877775311470032 & V14 > 0.041932493448257446 & V3 > 0.4683341532945633 --> 0\n",
      "29 ) V12 > -2.2581019401550293 & V11 <= 1.8204920291900635  & V4 > 1.6555220484733582 & V6 > -0.4584597796201706 & V17 <= 1.395189642906189  & V3 > 0.9425800442695618 --> 0\n",
      "30 ) V12 > -2.2581019401550293 & V11 <= 1.8204920291900635  & V4 > 1.6555220484733582 & V6 > -0.4584597796201706 & V17 > 1.395189642906189 --> 1\n",
      "31 ) V12 > -2.2581019401550293 & V11 > 1.8204920291900635 & V28 <= 0.03831704147160053  --> 0\n",
      "32 ) V12 > -2.2581019401550293 & V11 > 1.8204920291900635 & V28 > 0.03831704147160053 --> 1\n"
     ]
    }
   ],
   "source": [
    "tree_to_code(best_clf2.estimators_[2], ['Time', 'V1', 'V2', 'V3', 'V4', 'V5', 'V6', 'V7', 'V8', 'V9', 'V10',\n",
    "       'V11', 'V12', 'V13', 'V14', 'V15', 'V16', 'V17', 'V18', 'V19', 'V20',\n",
    "       'V21', 'V22', 'V23', 'V24', 'V25', 'V26', 'V27', 'V28', 'Amount'])"
   ]
  },
  {
   "cell_type": "code",
   "execution_count": null,
   "metadata": {},
   "outputs": [],
   "source": []
  }
 ],
 "metadata": {
  "kernelspec": {
   "display_name": "Python 3",
   "language": "python",
   "name": "python3"
  },
  "language_info": {
   "codemirror_mode": {
    "name": "ipython",
    "version": 3
   },
   "file_extension": ".py",
   "mimetype": "text/x-python",
   "name": "python",
   "nbconvert_exporter": "python",
   "pygments_lexer": "ipython3",
   "version": "3.7.6"
  }
 },
 "nbformat": 4,
 "nbformat_minor": 2
}
