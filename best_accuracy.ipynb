{
 "cells": [
  {
   "cell_type": "markdown",
   "metadata": {},
   "source": [
    "# Projet Random Forest - meilleure accuracy\n",
    "\n",
    "## Rebecca Leygonie & Nemanja Kostadinovic"
   ]
  },
  {
   "cell_type": "markdown",
   "metadata": {},
   "source": [
    "# Import des packages"
   ]
  },
  {
   "cell_type": "code",
   "execution_count": 1,
   "metadata": {},
   "outputs": [
    {
     "name": "stderr",
     "output_type": "stream",
     "text": [
      "/usr/local/lib/python3.7/site-packages/sklearn/utils/deprecation.py:144: FutureWarning: The sklearn.tree.export module is  deprecated in version 0.22 and will be removed in version 0.24. The corresponding classes / functions should instead be imported from sklearn.tree. Anything that cannot be imported from sklearn.tree is now part of the private API.\n",
      "  warnings.warn(message, FutureWarning)\n"
     ]
    }
   ],
   "source": [
    "import pandas as pd\n",
    "import numpy as np\n",
    "import matplotlib.pyplot as plt\n",
    "\n",
    "from sklearn.tree import export_graphviz\n",
    "from subprocess import call\n",
    "from IPython.display import Image\n",
    "\n",
    "import seaborn as sns\n",
    "from imblearn.under_sampling import RandomUnderSampler\n",
    "\n",
    "from sklearn.model_selection import train_test_split, cross_val_score\n",
    "from sklearn.ensemble import RandomForestClassifier\n",
    "from sklearn.model_selection import RandomizedSearchCV, GridSearchCV\n",
    "from sklearn.tree.export import export_text\n",
    "from sklearn.metrics import accuracy_score, confusion_matrix, mean_squared_error, recall_score, classification_report, f1_score, make_scorer, precision_score"
   ]
  },
  {
   "cell_type": "code",
   "execution_count": 2,
   "metadata": {},
   "outputs": [],
   "source": [
    "data = pd.read_csv(\"CarteBancaire.csv\")"
   ]
  },
  {
   "cell_type": "code",
   "execution_count": 3,
   "metadata": {},
   "outputs": [],
   "source": [
    "train = data.drop(['Class'], axis='columns').copy()\n",
    "y = data[['Class']].copy()\n",
    "X_train1, X_test1, y_train1, y_test1 = train_test_split(train, y, test_size=0.2, random_state=0)\n",
    "rus = RandomUnderSampler()\n",
    "X_under_sampled, y_under_sampled = rus.fit_resample(train, y)"
   ]
  },
  {
   "cell_type": "code",
   "execution_count": 19,
   "metadata": {},
   "outputs": [],
   "source": [
    "n_estimators = np.arange(10,100,1)\n",
    "\n",
    "max_depth = np.arange(1,10,2)\n",
    "np.append(max_depth,None)\n",
    "\n",
    "min_samples_split = np.arange(1,10,2) \n",
    "np.append(min_samples_split, None)\n",
    "\n",
    "min_samples_leaf = np.arange(1,10,2) \n",
    "np.append(min_samples_leaf, None)\n",
    "\n",
    "bootstrap = [True, False]\n",
    "criterion = ['gini', 'entropy']\n",
    "\n",
    "clf = RandomForestClassifier()\n",
    "\n",
    "hyperP = dict(n_estimators=n_estimators, max_depth=max_depth, min_samples_split=min_samples_split, min_samples_leaf=min_samples_leaf, bootstrap=bootstrap,criterion=criterion)\n",
    "\n",
    "grid = GridSearchCV(clf, hyperP, verbose=1, n_jobs=-1, scoring=\"accuracy\") #cv=3"
   ]
  },
  {
   "cell_type": "code",
   "execution_count": 15,
   "metadata": {},
   "outputs": [
    {
     "name": "stdout",
     "output_type": "stream",
     "text": [
      "Fitting 5 folds for each of 45000 candidates, totalling 225000 fits\n"
     ]
    },
    {
     "name": "stderr",
     "output_type": "stream",
     "text": [
      "[Parallel(n_jobs=-1)]: Using backend LokyBackend with 8 concurrent workers.\n",
      "[Parallel(n_jobs=-1)]: Done  56 tasks      | elapsed:    0.4s\n",
      "[Parallel(n_jobs=-1)]: Done 962 tasks      | elapsed:   10.3s\n",
      "[Parallel(n_jobs=-1)]: Done 1468 tasks      | elapsed:   17.6s\n",
      "[Parallel(n_jobs=-1)]: Done 2168 tasks      | elapsed:   28.2s\n",
      "[Parallel(n_jobs=-1)]: Done 4056 tasks      | elapsed:   52.2s\n",
      "[Parallel(n_jobs=-1)]: Done 6256 tasks      | elapsed:  1.3min\n",
      "[Parallel(n_jobs=-1)]: Done 8856 tasks      | elapsed:  1.9min\n",
      "[Parallel(n_jobs=-1)]: Done 11856 tasks      | elapsed:  2.5min\n",
      "[Parallel(n_jobs=-1)]: Done 15256 tasks      | elapsed:  3.3min\n",
      "[Parallel(n_jobs=-1)]: Done 19056 tasks      | elapsed:  4.2min\n",
      "[Parallel(n_jobs=-1)]: Done 23256 tasks      | elapsed:  5.3min\n",
      "[Parallel(n_jobs=-1)]: Done 26448 tasks      | elapsed:  6.2min\n",
      "[Parallel(n_jobs=-1)]: Done 31448 tasks      | elapsed:  7.4min\n",
      "[Parallel(n_jobs=-1)]: Done 36848 tasks      | elapsed:  8.8min\n",
      "[Parallel(n_jobs=-1)]: Done 42648 tasks      | elapsed: 10.4min\n",
      "[Parallel(n_jobs=-1)]: Done 48848 tasks      | elapsed: 12.0min\n",
      "[Parallel(n_jobs=-1)]: Done 54160 tasks      | elapsed: 13.5min\n",
      "[Parallel(n_jobs=-1)]: Done 61160 tasks      | elapsed: 15.1min\n",
      "[Parallel(n_jobs=-1)]: Done 68431 tasks      | elapsed: 16.9min\n",
      "[Parallel(n_jobs=-1)]: Done 73384 tasks      | elapsed: 18.6min\n",
      "[Parallel(n_jobs=-1)]: Done 78372 tasks      | elapsed: 20.2min\n",
      "[Parallel(n_jobs=-1)]: Done 83352 tasks      | elapsed: 22.1min\n",
      "[Parallel(n_jobs=-1)]: Done 88682 tasks      | elapsed: 24.1min\n",
      "[Parallel(n_jobs=-1)]: Done 93856 tasks      | elapsed: 26.3min\n",
      "[Parallel(n_jobs=-1)]: Done 99826 tasks      | elapsed: 28.7min\n",
      "[Parallel(n_jobs=-1)]: Done 105424 tasks      | elapsed: 31.1min\n",
      "[Parallel(n_jobs=-1)]: Done 111668 tasks      | elapsed: 33.5min\n",
      "[Parallel(n_jobs=-1)]: Done 121648 tasks      | elapsed: 35.7min\n",
      "[Parallel(n_jobs=-1)]: Done 133048 tasks      | elapsed: 38.4min\n",
      "[Parallel(n_jobs=-1)]: Done 141888 tasks      | elapsed: 40.9min\n",
      "[Parallel(n_jobs=-1)]: Done 151650 tasks      | elapsed: 43.8min\n",
      "[Parallel(n_jobs=-1)]: Done 159384 tasks      | elapsed: 46.2min\n",
      "[Parallel(n_jobs=-1)]: Done 167484 tasks      | elapsed: 49.0min\n",
      "[Parallel(n_jobs=-1)]: Done 179768 tasks      | elapsed: 52.2min\n",
      "[Parallel(n_jobs=-1)]: Done 188036 tasks      | elapsed: 55.2min\n",
      "[Parallel(n_jobs=-1)]: Done 196529 tasks      | elapsed: 58.7min\n",
      "[Parallel(n_jobs=-1)]: Done 204234 tasks      | elapsed: 62.4min\n",
      "[Parallel(n_jobs=-1)]: Done 211424 tasks      | elapsed: 66.1min\n",
      "[Parallel(n_jobs=-1)]: Done 218106 tasks      | elapsed: 69.6min\n",
      "[Parallel(n_jobs=-1)]: Done 224440 tasks      | elapsed: 72.8min\n",
      "[Parallel(n_jobs=-1)]: Done 225000 out of 225000 | elapsed: 73.2min finished\n"
     ]
    }
   ],
   "source": [
    "X_train2, X_test2, y_train2, y_test2 = train_test_split(X_under_sampled, y_under_sampled, test_size=0.2, random_state=0)\n",
    "bestP = grid.fit(X_train2, y_train2.values.ravel())"
   ]
  },
  {
   "cell_type": "code",
   "execution_count": 16,
   "metadata": {
    "scrolled": true
   },
   "outputs": [
    {
     "data": {
      "text/plain": [
       "RandomForestClassifier(bootstrap=True, ccp_alpha=0.0, class_weight=None,\n",
       "                       criterion='entropy', max_depth=9, max_features='auto',\n",
       "                       max_leaf_nodes=None, max_samples=None,\n",
       "                       min_impurity_decrease=0.0, min_impurity_split=None,\n",
       "                       min_samples_leaf=1, min_samples_split=3,\n",
       "                       min_weight_fraction_leaf=0.0, n_estimators=99,\n",
       "                       n_jobs=None, oob_score=False, random_state=None,\n",
       "                       verbose=0, warm_start=False)"
      ]
     },
     "execution_count": 16,
     "metadata": {},
     "output_type": "execute_result"
    }
   ],
   "source": [
    "best_clf = grid.best_estimator_\n",
    "best_clf"
   ]
  },
  {
   "cell_type": "markdown",
   "metadata": {},
   "source": [
    "## Evalusation sur les données test d'origine non échantilloné"
   ]
  },
  {
   "cell_type": "code",
   "execution_count": 21,
   "metadata": {},
   "outputs": [
    {
     "name": "stdout",
     "output_type": "stream",
     "text": [
      "Accuracy:  0.9881148836066149\n",
      "Taux d'erreur : 0.011885116393385076\n",
      "Recall score :  0.9603960396039604\n",
      "miss-rate : 0.03960396039603964\n"
     ]
    }
   ],
   "source": [
    "predicted = best_clf.predict(X_test1)\n",
    "score = accuracy_score(y_test1, predicted)\n",
    "recall_score = recall_score(y_test1, predicted)\n",
    "print('Accuracy: ', score)\n",
    "print(\"Taux d'erreur :\", 1-score)\n",
    "print('Recall score : ', recall_score)\n",
    "print(\"miss-rate :\",1-recall_score)"
   ]
  },
  {
   "cell_type": "code",
   "execution_count": null,
   "metadata": {},
   "outputs": [],
   "source": []
  }
 ],
 "metadata": {
  "kernelspec": {
   "display_name": "Python 3",
   "language": "python",
   "name": "python3"
  },
  "language_info": {
   "codemirror_mode": {
    "name": "ipython",
    "version": 3
   },
   "file_extension": ".py",
   "mimetype": "text/x-python",
   "name": "python",
   "nbconvert_exporter": "python",
   "pygments_lexer": "ipython3",
   "version": "3.7.6"
  }
 },
 "nbformat": 4,
 "nbformat_minor": 2
}
